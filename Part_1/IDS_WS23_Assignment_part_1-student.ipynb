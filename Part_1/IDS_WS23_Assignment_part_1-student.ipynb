{
 "cells": [
  {
   "cell_type": "markdown",
   "metadata": {
    "id": "hzVGH-sH9qLT"
   },
   "source": [
    "\n",
    "# IDS Assignment Part 1\n",
    "\n",
    "This is the first part of the assignment in IDS 2023/2024.\n",
    "\n",
    "Please use this Jupyter notebook to work on the questions posed in the assignment. When you are done, upload the notebook in Moodle at the designated activity. This is the _only_ file that is required. A separate report is _not_ needed and will not be considered for grading.\n",
    "Provide your commented Python code and answers in the corresponding provided cells. Make sure to answer all questions in a clear and explicit manner and discuss your outputs. _Please do not change the general structure of this notebook_. You can, however, add additional markdown or code cells if necessary. **Please DO NOT CLEAR THE OUTPUT of the notebook you are submitting!** Additionally, please ensure that the code notebook runs if placed in the same folder as all of the provided files, delivering the same outputs as the ones you submit in the notebook. This includes being runnable in the bundled conda environment.\n",
    "\n",
    "*Please make sure to include the names and matriculation numbers of all group members in the slot provided below.* If a name or a student id is missing, the student will not receive any points.\n",
    "\n",
    "Hint 1: While working on the assignment, you will get a better understanding of the dataset. Feel free to generate additional results and visualizations to support your answers. For example, this might be useful regarding data modification, data simplification, or output interpretation. **Ensure that all your claims are supported.**\n",
    "\n",
    "Hint 2: **Plan your time wisely.** A few parts of this assignment may take some time to run. It might be necessary to consider time management when you plan your group work. Also, do not attempt to upload your assignment at the last minute before the deadline. This often does not work, and you will miss the deadline. Late submissions will not be considered.\n",
    "\n",
    "Hint 3: RWTHmoodle allows multiple submissions, with every new submission overwriting the previous one. **Partial submissions are possible and encouraged.** This might be helpful in case of technical issues with RWTHMoodle, which may occur close to the deadline."
   ]
  },
  {
   "cell_type": "markdown",
   "metadata": {
    "id": "pEWjL2Fc_FDn"
   },
   "source": [
    "**Student names and matriculation numbers**\n",
    "\n",
    "1.)\n",
    "\n",
    "2.)\n",
    "\n",
    "3.)"
   ]
  },
  {
   "cell_type": "markdown",
   "metadata": {
    "tags": []
   },
   "source": [
    "# Table of Contents"
   ]
  },
  {
   "cell_type": "markdown",
   "metadata": {
    "jp-MarkdownHeadingCollapsed": true
   },
   "source": [
    "**Re-Drive - A platform for selling your used car**\n",
    "\n",
    "**Q1: Preprocessing the data set**\n",
    "\n",
    "**Q2: Exploring the data set**\n",
    "- **(a) Exploration of the target feature**\n",
    "- **(b) Exploration of correlations**\n",
    "    - (i) Correleation with numerical attributes\n",
    "    - (ii) Univariate correlations with categorical attributes\n",
    "    - (iii) Multivariate correlations with categorical attributes\n",
    "\n",
    "**Q3: Predicting prices**\n",
    "- **(a) Baseline**\n",
    "- **(b) Prediction by classification**\n",
    "    - (i) Price binning\n",
    "    - (ii) Data transformation for decision trees\n",
    "    - (iii) Model training\n",
    "    - (iv) Price prediction\n",
    "- **(c) Prediction by clustering**\n",
    "    - (i) Data transformation for clustering\n",
    "    - (ii) Computing the distance matrix\n",
    "    - (iii) Applying DBSCAN\n",
    "    - (iv) Price prediction\n",
    "- **(d) Prediction by regression and with neural networks**\n",
    "    - (i) Feature engineering\n",
    "    - (ii) Feature selection\n",
    "    - (iii) Data transformation for regression and neural networks\n",
    "    - (iv) Model training function\n",
    "    - (v) Linear regression\n",
    "    - (vi) Regression with non-linear kernels\n",
    "    - (vii) Neural networks\n",
    "- **(e) Discussion**\n",
    "\n",
    "\n",
    "**Q4: Predicting time-to-sale**\n",
    "- **(a) Data preparation**\n",
    "    - (i) Target feature creation\n",
    "    - (ii) Sensitivity and specificity\n",
    "    - (iii) Data transformation for classification problem\n",
    "- **(b) Classifiers**\n",
    "    - (i) Model training\n",
    "    - (ii) Evaluation Part 1\n",
    "    - (iii) Evaluation Part 2\n",
    "- **(c) Discussion**\n"
   ]
  },
  {
   "cell_type": "markdown",
   "metadata": {
    "id": "0ZOIE0Qw-X01",
    "tags": []
   },
   "source": [
    "# ReDrive - A platform for selling your used car\n",
    "\n",
    "You finally made it! After years of hard study, you finally obtained a degree in data science. Congratulations!\n",
    "\n",
    "Having a passion for automotive technologies, you decided to combine that passion with your profound knowledge in data science. Together with your colleague N., who has a passion for sustainability, you founded **ReDrive** in the beginning of 2023, an online platform where people can sell their used cars.\n",
    "\n",
    "The first months of your joint venture are going very well, and you are making good revenue. It is time now for you to apply your data science expertise to evaluate your business and to look for improvement potential. Your idea on that is to first explore the data, and then to see if you can create useful models for predicting car prices.\n",
    "\n",
    "The dataset *used_cars.csv* contains information about cars that customers have sold or are trying to sell via ReDrive in 2023."
   ]
  },
  {
   "cell_type": "code",
   "execution_count": 1,
   "metadata": {
    "id": "65lmibiMU2CS"
   },
   "outputs": [],
   "source": [
    "import numpy as np\n",
    "import pandas as pd\n",
    "import seaborn as sns\n",
    "import matplotlib.pyplot as plt"
   ]
  },
  {
   "cell_type": "markdown",
   "metadata": {
    "id": "eMVA2-JCgNgS",
    "tags": []
   },
   "source": [
    "# Q1: Preprocessing the data set **[8 points]**"
   ]
  },
  {
   "cell_type": "markdown",
   "metadata": {
    "id": "FCRcyAOcSaIY"
   },
   "source": [
    "Using the file *used_cars.csv*, create a dataframe. **[1 point]**"
   ]
  },
  {
   "cell_type": "code",
   "execution_count": 4,
   "metadata": {
    "colab": {
     "base_uri": "https://localhost:8080/",
     "height": 364
    },
    "id": "oYbUJRviVvhL",
    "outputId": "3b7edb2f-3102-4635-efca-4fa83009d1ad"
   },
   "outputs": [],
   "source": [
    "df = pd.read_csv(\"used_cars.csv\")"
   ]
  },
  {
   "cell_type": "markdown",
   "metadata": {
    "id": "Tynx9N1jg2Tp"
   },
   "source": [
    "Provide the names of all columns that contain NaN values. **[1 point]**"
   ]
  },
  {
   "cell_type": "code",
   "execution_count": 8,
   "metadata": {
    "colab": {
     "base_uri": "https://localhost:8080/"
    },
    "id": "tfcwkqEpWD_A",
    "outputId": "fe769736-c6d2-4a67-edcf-dd70677a6985"
   },
   "outputs": [
    {
     "data": {
      "text/plain": [
       "['fuel_type', 'accident', 'clean_title']"
      ]
     },
     "execution_count": 8,
     "metadata": {},
     "output_type": "execute_result"
    }
   ],
   "source": [
    "df.columns[df.isna().any()].tolist()"
   ]
  },
  {
   "cell_type": "markdown",
   "metadata": {
    "id": "Ol8yTNsxmG2i"
   },
   "source": [
    "**Answer:** \n",
    "\n",
    "['fuel_type', 'accident', 'clean_title']"
   ]
  },
  {
   "cell_type": "markdown",
   "metadata": {
    "id": "eRs-ikCdmv4N"
   },
   "source": [
    "Display all rows containing NaN values. **[1 point]**"
   ]
  },
  {
   "cell_type": "code",
   "execution_count": 29,
   "metadata": {
    "colab": {
     "base_uri": "https://localhost:8080/",
     "height": 597
    },
    "id": "dsu7S47kgcLp",
    "outputId": "04048e98-451d-4e53-e1c5-8eeca3752449"
   },
   "outputs": [
    {
     "data": {
      "text/html": [
       "<div>\n",
       "<style scoped>\n",
       "    .dataframe tbody tr th:only-of-type {\n",
       "        vertical-align: middle;\n",
       "    }\n",
       "\n",
       "    .dataframe tbody tr th {\n",
       "        vertical-align: top;\n",
       "    }\n",
       "\n",
       "    .dataframe thead th {\n",
       "        text-align: right;\n",
       "    }\n",
       "</style>\n",
       "<table border=\"1\" class=\"dataframe\">\n",
       "  <thead>\n",
       "    <tr style=\"text-align: right;\">\n",
       "      <th></th>\n",
       "      <th>brand</th>\n",
       "      <th>model</th>\n",
       "      <th>model_year</th>\n",
       "      <th>milage</th>\n",
       "      <th>fuel_type</th>\n",
       "      <th>engine</th>\n",
       "      <th>transmission</th>\n",
       "      <th>ext_col</th>\n",
       "      <th>int_col</th>\n",
       "      <th>accident</th>\n",
       "      <th>clean_title</th>\n",
       "      <th>price</th>\n",
       "    </tr>\n",
       "  </thead>\n",
       "  <tbody>\n",
       "    <tr>\n",
       "      <th>2</th>\n",
       "      <td>Lexus</td>\n",
       "      <td>RX 350 RX 350</td>\n",
       "      <td>2022</td>\n",
       "      <td>22,372 mi.</td>\n",
       "      <td>Gasoline</td>\n",
       "      <td>3.5 Liter DOHC</td>\n",
       "      <td>Automatic</td>\n",
       "      <td>Blue</td>\n",
       "      <td>Black</td>\n",
       "      <td>None reported</td>\n",
       "      <td>NaN</td>\n",
       "      <td>$54,598</td>\n",
       "    </tr>\n",
       "    <tr>\n",
       "      <th>4</th>\n",
       "      <td>Audi</td>\n",
       "      <td>Q3 45 S line Premium Plus</td>\n",
       "      <td>2021</td>\n",
       "      <td>9,835 mi.</td>\n",
       "      <td>Gasoline</td>\n",
       "      <td>2.0L I4 16V GDI DOHC Turbo</td>\n",
       "      <td>8-Speed Automatic</td>\n",
       "      <td>Glacier White Metallic</td>\n",
       "      <td>Black</td>\n",
       "      <td>None reported</td>\n",
       "      <td>NaN</td>\n",
       "      <td>$34,999</td>\n",
       "    </tr>\n",
       "    <tr>\n",
       "      <th>5</th>\n",
       "      <td>Acura</td>\n",
       "      <td>ILX 2.4L</td>\n",
       "      <td>2016</td>\n",
       "      <td>136,397 mi.</td>\n",
       "      <td>Gasoline</td>\n",
       "      <td>2.4 Liter</td>\n",
       "      <td>F</td>\n",
       "      <td>Silver</td>\n",
       "      <td>Ebony.</td>\n",
       "      <td>None reported</td>\n",
       "      <td>NaN</td>\n",
       "      <td>$14,798</td>\n",
       "    </tr>\n",
       "    <tr>\n",
       "      <th>9</th>\n",
       "      <td>Tesla</td>\n",
       "      <td>Model X Long Range Plus</td>\n",
       "      <td>2020</td>\n",
       "      <td>34,000 mi.</td>\n",
       "      <td>NaN</td>\n",
       "      <td>534.0HP Electric Motor Electric Fuel System</td>\n",
       "      <td>A/T</td>\n",
       "      <td>Black</td>\n",
       "      <td>Black</td>\n",
       "      <td>None reported</td>\n",
       "      <td>Yes</td>\n",
       "      <td>$69,950</td>\n",
       "    </tr>\n",
       "    <tr>\n",
       "      <th>10</th>\n",
       "      <td>Land</td>\n",
       "      <td>Rover Range Rover Sport 3.0 Supercharged HST</td>\n",
       "      <td>2021</td>\n",
       "      <td>27,608 mi.</td>\n",
       "      <td>Gasoline</td>\n",
       "      <td>V6</td>\n",
       "      <td>Automatic</td>\n",
       "      <td>Fuji White</td>\n",
       "      <td>Pimento / Ebony</td>\n",
       "      <td>None reported</td>\n",
       "      <td>NaN</td>\n",
       "      <td>$73,897</td>\n",
       "    </tr>\n",
       "    <tr>\n",
       "      <th>...</th>\n",
       "      <td>...</td>\n",
       "      <td>...</td>\n",
       "      <td>...</td>\n",
       "      <td>...</td>\n",
       "      <td>...</td>\n",
       "      <td>...</td>\n",
       "      <td>...</td>\n",
       "      <td>...</td>\n",
       "      <td>...</td>\n",
       "      <td>...</td>\n",
       "      <td>...</td>\n",
       "      <td>...</td>\n",
       "    </tr>\n",
       "    <tr>\n",
       "      <th>3962</th>\n",
       "      <td>Toyota</td>\n",
       "      <td>4Runner TRD Pro</td>\n",
       "      <td>2021</td>\n",
       "      <td>35,048 mi.</td>\n",
       "      <td>Gasoline</td>\n",
       "      <td>4.0L V6 24V MPFI DOHC</td>\n",
       "      <td>5-Speed Automatic</td>\n",
       "      <td>Lunar Rock</td>\n",
       "      <td>Black / Graphite</td>\n",
       "      <td>None reported</td>\n",
       "      <td>NaN</td>\n",
       "      <td>$52,590</td>\n",
       "    </tr>\n",
       "    <tr>\n",
       "      <th>3991</th>\n",
       "      <td>Porsche</td>\n",
       "      <td>Cayenne Turbo</td>\n",
       "      <td>2020</td>\n",
       "      <td>39,611 mi.</td>\n",
       "      <td>Gasoline</td>\n",
       "      <td>4.0L V8 32V GDI DOHC Twin Turbo</td>\n",
       "      <td>8-Speed Automatic</td>\n",
       "      <td>Quartzite Grey Metallic</td>\n",
       "      <td>Black</td>\n",
       "      <td>None reported</td>\n",
       "      <td>NaN</td>\n",
       "      <td>$89,900</td>\n",
       "    </tr>\n",
       "    <tr>\n",
       "      <th>3993</th>\n",
       "      <td>Porsche</td>\n",
       "      <td>911 Carrera S</td>\n",
       "      <td>2021</td>\n",
       "      <td>7,008 mi.</td>\n",
       "      <td>Gasoline</td>\n",
       "      <td>443.0HP 3.0L Flat 6 Cylinder Engine Gasoline Fuel</td>\n",
       "      <td>8-Speed A/T</td>\n",
       "      <td>Gray</td>\n",
       "      <td>Black</td>\n",
       "      <td>NaN</td>\n",
       "      <td>NaN</td>\n",
       "      <td>$151,900</td>\n",
       "    </tr>\n",
       "    <tr>\n",
       "      <th>3996</th>\n",
       "      <td>Aston</td>\n",
       "      <td>Martin DB7 Vantage Volante</td>\n",
       "      <td>2003</td>\n",
       "      <td>14,900 mi.</td>\n",
       "      <td>Gasoline</td>\n",
       "      <td>420.0HP 5.9L 12 Cylinder Engine Gasoline Fuel</td>\n",
       "      <td>6-Speed M/T</td>\n",
       "      <td>White</td>\n",
       "      <td>Beige</td>\n",
       "      <td>NaN</td>\n",
       "      <td>NaN</td>\n",
       "      <td>$32,850</td>\n",
       "    </tr>\n",
       "    <tr>\n",
       "      <th>4006</th>\n",
       "      <td>Porsche</td>\n",
       "      <td>Taycan</td>\n",
       "      <td>2022</td>\n",
       "      <td>2,116 mi.</td>\n",
       "      <td>NaN</td>\n",
       "      <td>Electric</td>\n",
       "      <td>Automatic</td>\n",
       "      <td>Black</td>\n",
       "      <td>Black</td>\n",
       "      <td>None reported</td>\n",
       "      <td>NaN</td>\n",
       "      <td>$90,998</td>\n",
       "    </tr>\n",
       "  </tbody>\n",
       "</table>\n",
       "<p>740 rows × 12 columns</p>\n",
       "</div>"
      ],
      "text/plain": [
       "        brand                                         model  model_year  \\\n",
       "2       Lexus                                 RX 350 RX 350        2022   \n",
       "4        Audi                     Q3 45 S line Premium Plus        2021   \n",
       "5       Acura                                      ILX 2.4L        2016   \n",
       "9       Tesla                       Model X Long Range Plus        2020   \n",
       "10       Land  Rover Range Rover Sport 3.0 Supercharged HST        2021   \n",
       "...       ...                                           ...         ...   \n",
       "3962   Toyota                               4Runner TRD Pro        2021   \n",
       "3991  Porsche                                 Cayenne Turbo        2020   \n",
       "3993  Porsche                                 911 Carrera S        2021   \n",
       "3996    Aston                    Martin DB7 Vantage Volante        2003   \n",
       "4006  Porsche                                        Taycan        2022   \n",
       "\n",
       "           milage fuel_type  \\\n",
       "2      22,372 mi.  Gasoline   \n",
       "4       9,835 mi.  Gasoline   \n",
       "5     136,397 mi.  Gasoline   \n",
       "9      34,000 mi.       NaN   \n",
       "10     27,608 mi.  Gasoline   \n",
       "...           ...       ...   \n",
       "3962   35,048 mi.  Gasoline   \n",
       "3991   39,611 mi.  Gasoline   \n",
       "3993    7,008 mi.  Gasoline   \n",
       "3996   14,900 mi.  Gasoline   \n",
       "4006    2,116 mi.       NaN   \n",
       "\n",
       "                                                 engine       transmission  \\\n",
       "2                                        3.5 Liter DOHC          Automatic   \n",
       "4                            2.0L I4 16V GDI DOHC Turbo  8-Speed Automatic   \n",
       "5                                             2.4 Liter                  F   \n",
       "9           534.0HP Electric Motor Electric Fuel System                A/T   \n",
       "10                                                   V6          Automatic   \n",
       "...                                                 ...                ...   \n",
       "3962                              4.0L V6 24V MPFI DOHC  5-Speed Automatic   \n",
       "3991                    4.0L V8 32V GDI DOHC Twin Turbo  8-Speed Automatic   \n",
       "3993  443.0HP 3.0L Flat 6 Cylinder Engine Gasoline Fuel        8-Speed A/T   \n",
       "3996      420.0HP 5.9L 12 Cylinder Engine Gasoline Fuel        6-Speed M/T   \n",
       "4006                                           Electric          Automatic   \n",
       "\n",
       "                      ext_col           int_col       accident clean_title  \\\n",
       "2                        Blue             Black  None reported         NaN   \n",
       "4      Glacier White Metallic             Black  None reported         NaN   \n",
       "5                      Silver            Ebony.  None reported         NaN   \n",
       "9                       Black             Black  None reported         Yes   \n",
       "10                 Fuji White   Pimento / Ebony  None reported         NaN   \n",
       "...                       ...               ...            ...         ...   \n",
       "3962               Lunar Rock  Black / Graphite  None reported         NaN   \n",
       "3991  Quartzite Grey Metallic             Black  None reported         NaN   \n",
       "3993                     Gray             Black            NaN         NaN   \n",
       "3996                    White             Beige            NaN         NaN   \n",
       "4006                    Black             Black  None reported         NaN   \n",
       "\n",
       "         price  \n",
       "2      $54,598  \n",
       "4      $34,999  \n",
       "5      $14,798  \n",
       "9      $69,950  \n",
       "10     $73,897  \n",
       "...        ...  \n",
       "3962   $52,590  \n",
       "3991   $89,900  \n",
       "3993  $151,900  \n",
       "3996   $32,850  \n",
       "4006   $90,998  \n",
       "\n",
       "[740 rows x 12 columns]"
      ]
     },
     "execution_count": 29,
     "metadata": {},
     "output_type": "execute_result"
    }
   ],
   "source": [
    "df.loc[df.isna().any(axis=1)]"
   ]
  },
  {
   "cell_type": "markdown",
   "metadata": {
    "id": "q38Dd2CK0z_l"
   },
   "source": [
    "You investigate the NaN values further. You decide to map the NaN values from the clean_title column to \"No\". Also, you map the NaN values of the accident column to \"Unknown\". **[1 point]**"
   ]
  },
  {
   "cell_type": "code",
   "execution_count": 40,
   "metadata": {
    "id": "l1ARj34GqF-N"
   },
   "outputs": [
    {
     "data": {
      "text/html": [
       "<div>\n",
       "<style scoped>\n",
       "    .dataframe tbody tr th:only-of-type {\n",
       "        vertical-align: middle;\n",
       "    }\n",
       "\n",
       "    .dataframe tbody tr th {\n",
       "        vertical-align: top;\n",
       "    }\n",
       "\n",
       "    .dataframe thead th {\n",
       "        text-align: right;\n",
       "    }\n",
       "</style>\n",
       "<table border=\"1\" class=\"dataframe\">\n",
       "  <thead>\n",
       "    <tr style=\"text-align: right;\">\n",
       "      <th></th>\n",
       "      <th>brand</th>\n",
       "      <th>model</th>\n",
       "      <th>model_year</th>\n",
       "      <th>milage</th>\n",
       "      <th>fuel_type</th>\n",
       "      <th>engine</th>\n",
       "      <th>transmission</th>\n",
       "      <th>ext_col</th>\n",
       "      <th>int_col</th>\n",
       "      <th>accident</th>\n",
       "      <th>clean_title</th>\n",
       "      <th>price</th>\n",
       "    </tr>\n",
       "  </thead>\n",
       "  <tbody>\n",
       "    <tr>\n",
       "      <th>0</th>\n",
       "      <td>Ford</td>\n",
       "      <td>Utility Police Interceptor Base</td>\n",
       "      <td>2013</td>\n",
       "      <td>51,000 mi.</td>\n",
       "      <td>E85 Flex Fuel</td>\n",
       "      <td>300.0HP 3.7L V6 Cylinder Engine Flex Fuel Capa...</td>\n",
       "      <td>6-Speed A/T</td>\n",
       "      <td>Black</td>\n",
       "      <td>Black</td>\n",
       "      <td>At least 1 accident or damage reported</td>\n",
       "      <td>Yes</td>\n",
       "      <td>$10,300</td>\n",
       "    </tr>\n",
       "    <tr>\n",
       "      <th>1</th>\n",
       "      <td>Hyundai</td>\n",
       "      <td>Palisade SEL</td>\n",
       "      <td>2021</td>\n",
       "      <td>34,742 mi.</td>\n",
       "      <td>Gasoline</td>\n",
       "      <td>3.8L V6 24V GDI DOHC</td>\n",
       "      <td>8-Speed Automatic</td>\n",
       "      <td>Moonlight Cloud</td>\n",
       "      <td>Gray</td>\n",
       "      <td>At least 1 accident or damage reported</td>\n",
       "      <td>Yes</td>\n",
       "      <td>$38,005</td>\n",
       "    </tr>\n",
       "    <tr>\n",
       "      <th>2</th>\n",
       "      <td>Lexus</td>\n",
       "      <td>RX 350 RX 350</td>\n",
       "      <td>2022</td>\n",
       "      <td>22,372 mi.</td>\n",
       "      <td>Gasoline</td>\n",
       "      <td>3.5 Liter DOHC</td>\n",
       "      <td>Automatic</td>\n",
       "      <td>Blue</td>\n",
       "      <td>Black</td>\n",
       "      <td>None reported</td>\n",
       "      <td>No</td>\n",
       "      <td>$54,598</td>\n",
       "    </tr>\n",
       "    <tr>\n",
       "      <th>3</th>\n",
       "      <td>INFINITI</td>\n",
       "      <td>Q50 Hybrid Sport</td>\n",
       "      <td>2015</td>\n",
       "      <td>88,900 mi.</td>\n",
       "      <td>Hybrid</td>\n",
       "      <td>354.0HP 3.5L V6 Cylinder Engine Gas/Electric H...</td>\n",
       "      <td>7-Speed A/T</td>\n",
       "      <td>Black</td>\n",
       "      <td>Black</td>\n",
       "      <td>None reported</td>\n",
       "      <td>Yes</td>\n",
       "      <td>$15,500</td>\n",
       "    </tr>\n",
       "    <tr>\n",
       "      <th>4</th>\n",
       "      <td>Audi</td>\n",
       "      <td>Q3 45 S line Premium Plus</td>\n",
       "      <td>2021</td>\n",
       "      <td>9,835 mi.</td>\n",
       "      <td>Gasoline</td>\n",
       "      <td>2.0L I4 16V GDI DOHC Turbo</td>\n",
       "      <td>8-Speed Automatic</td>\n",
       "      <td>Glacier White Metallic</td>\n",
       "      <td>Black</td>\n",
       "      <td>None reported</td>\n",
       "      <td>No</td>\n",
       "      <td>$34,999</td>\n",
       "    </tr>\n",
       "    <tr>\n",
       "      <th>...</th>\n",
       "      <td>...</td>\n",
       "      <td>...</td>\n",
       "      <td>...</td>\n",
       "      <td>...</td>\n",
       "      <td>...</td>\n",
       "      <td>...</td>\n",
       "      <td>...</td>\n",
       "      <td>...</td>\n",
       "      <td>...</td>\n",
       "      <td>...</td>\n",
       "      <td>...</td>\n",
       "      <td>...</td>\n",
       "    </tr>\n",
       "    <tr>\n",
       "      <th>4004</th>\n",
       "      <td>Bentley</td>\n",
       "      <td>Continental GT Speed</td>\n",
       "      <td>2023</td>\n",
       "      <td>714 mi.</td>\n",
       "      <td>Gasoline</td>\n",
       "      <td>6.0L W12 48V PDI DOHC Twin Turbo</td>\n",
       "      <td>8-Speed Automatic with Auto-Shift</td>\n",
       "      <td>C / C</td>\n",
       "      <td>Hotspur</td>\n",
       "      <td>None reported</td>\n",
       "      <td>Yes</td>\n",
       "      <td>$349,950</td>\n",
       "    </tr>\n",
       "    <tr>\n",
       "      <th>4005</th>\n",
       "      <td>Audi</td>\n",
       "      <td>S4 3.0T Premium Plus</td>\n",
       "      <td>2022</td>\n",
       "      <td>10,900 mi.</td>\n",
       "      <td>Gasoline</td>\n",
       "      <td>349.0HP 3.0L V6 Cylinder Engine Gasoline Fuel</td>\n",
       "      <td>Transmission w/Dual Shift Mode</td>\n",
       "      <td>Black</td>\n",
       "      <td>Black</td>\n",
       "      <td>None reported</td>\n",
       "      <td>Yes</td>\n",
       "      <td>$53,900</td>\n",
       "    </tr>\n",
       "    <tr>\n",
       "      <th>4006</th>\n",
       "      <td>Porsche</td>\n",
       "      <td>Taycan</td>\n",
       "      <td>2022</td>\n",
       "      <td>2,116 mi.</td>\n",
       "      <td>NaN</td>\n",
       "      <td>Electric</td>\n",
       "      <td>Automatic</td>\n",
       "      <td>Black</td>\n",
       "      <td>Black</td>\n",
       "      <td>None reported</td>\n",
       "      <td>No</td>\n",
       "      <td>$90,998</td>\n",
       "    </tr>\n",
       "    <tr>\n",
       "      <th>4007</th>\n",
       "      <td>Ford</td>\n",
       "      <td>F-150 Raptor</td>\n",
       "      <td>2020</td>\n",
       "      <td>33,000 mi.</td>\n",
       "      <td>Gasoline</td>\n",
       "      <td>450.0HP 3.5L V6 Cylinder Engine Gasoline Fuel</td>\n",
       "      <td>A/T</td>\n",
       "      <td>Blue</td>\n",
       "      <td>Black</td>\n",
       "      <td>None reported</td>\n",
       "      <td>Yes</td>\n",
       "      <td>$62,999</td>\n",
       "    </tr>\n",
       "    <tr>\n",
       "      <th>4008</th>\n",
       "      <td>BMW</td>\n",
       "      <td>X3 xDrive30i</td>\n",
       "      <td>2020</td>\n",
       "      <td>43,000 mi.</td>\n",
       "      <td>Gasoline</td>\n",
       "      <td>248.0HP 2.0L 4 Cylinder Engine Gasoline Fuel</td>\n",
       "      <td>A/T</td>\n",
       "      <td>Gray</td>\n",
       "      <td>Brown</td>\n",
       "      <td>At least 1 accident or damage reported</td>\n",
       "      <td>Yes</td>\n",
       "      <td>$40,000</td>\n",
       "    </tr>\n",
       "  </tbody>\n",
       "</table>\n",
       "<p>4009 rows × 12 columns</p>\n",
       "</div>"
      ],
      "text/plain": [
       "         brand                            model  model_year      milage  \\\n",
       "0         Ford  Utility Police Interceptor Base        2013  51,000 mi.   \n",
       "1      Hyundai                     Palisade SEL        2021  34,742 mi.   \n",
       "2        Lexus                    RX 350 RX 350        2022  22,372 mi.   \n",
       "3     INFINITI                 Q50 Hybrid Sport        2015  88,900 mi.   \n",
       "4         Audi        Q3 45 S line Premium Plus        2021   9,835 mi.   \n",
       "...        ...                              ...         ...         ...   \n",
       "4004   Bentley             Continental GT Speed        2023     714 mi.   \n",
       "4005      Audi             S4 3.0T Premium Plus        2022  10,900 mi.   \n",
       "4006   Porsche                           Taycan        2022   2,116 mi.   \n",
       "4007      Ford                     F-150 Raptor        2020  33,000 mi.   \n",
       "4008       BMW                     X3 xDrive30i        2020  43,000 mi.   \n",
       "\n",
       "          fuel_type                                             engine  \\\n",
       "0     E85 Flex Fuel  300.0HP 3.7L V6 Cylinder Engine Flex Fuel Capa...   \n",
       "1          Gasoline                               3.8L V6 24V GDI DOHC   \n",
       "2          Gasoline                                     3.5 Liter DOHC   \n",
       "3            Hybrid  354.0HP 3.5L V6 Cylinder Engine Gas/Electric H...   \n",
       "4          Gasoline                         2.0L I4 16V GDI DOHC Turbo   \n",
       "...             ...                                                ...   \n",
       "4004       Gasoline                   6.0L W12 48V PDI DOHC Twin Turbo   \n",
       "4005       Gasoline      349.0HP 3.0L V6 Cylinder Engine Gasoline Fuel   \n",
       "4006            NaN                                           Electric   \n",
       "4007       Gasoline      450.0HP 3.5L V6 Cylinder Engine Gasoline Fuel   \n",
       "4008       Gasoline       248.0HP 2.0L 4 Cylinder Engine Gasoline Fuel   \n",
       "\n",
       "                           transmission                 ext_col  int_col  \\\n",
       "0                           6-Speed A/T                   Black    Black   \n",
       "1                     8-Speed Automatic         Moonlight Cloud     Gray   \n",
       "2                             Automatic                    Blue    Black   \n",
       "3                           7-Speed A/T                   Black    Black   \n",
       "4                     8-Speed Automatic  Glacier White Metallic    Black   \n",
       "...                                 ...                     ...      ...   \n",
       "4004  8-Speed Automatic with Auto-Shift                   C / C  Hotspur   \n",
       "4005     Transmission w/Dual Shift Mode                   Black    Black   \n",
       "4006                          Automatic                   Black    Black   \n",
       "4007                                A/T                    Blue    Black   \n",
       "4008                                A/T                    Gray    Brown   \n",
       "\n",
       "                                    accident clean_title     price  \n",
       "0     At least 1 accident or damage reported         Yes   $10,300  \n",
       "1     At least 1 accident or damage reported         Yes   $38,005  \n",
       "2                              None reported          No   $54,598  \n",
       "3                              None reported         Yes   $15,500  \n",
       "4                              None reported          No   $34,999  \n",
       "...                                      ...         ...       ...  \n",
       "4004                           None reported         Yes  $349,950  \n",
       "4005                           None reported         Yes   $53,900  \n",
       "4006                           None reported          No   $90,998  \n",
       "4007                           None reported         Yes   $62,999  \n",
       "4008  At least 1 accident or damage reported         Yes   $40,000  \n",
       "\n",
       "[4009 rows x 12 columns]"
      ]
     },
     "execution_count": 40,
     "metadata": {},
     "output_type": "execute_result"
    }
   ],
   "source": [
    "mapped_df = df.fillna({'clean_title': 'No', 'accident': 'Unknown'})\n",
    "mapped_df"
   ]
  },
  {
   "cell_type": "markdown",
   "metadata": {
    "id": "mdHW7XeM1bbj"
   },
   "source": [
    "Finally, you investigate the NaN values of the fuel_type column. To do so, you inspect the unique values of that column. What is your observation? Which general type of engine is accociated with NaN values in the fuel_type column? **[1 point]**"
   ]
  },
  {
   "cell_type": "code",
   "execution_count": 50,
   "metadata": {
    "colab": {
     "base_uri": "https://localhost:8080/"
    },
    "id": "ePfc8HHi1qlA",
    "outputId": "fcbb1b73-64db-4bd6-e30a-74a62ffedcc6"
   },
   "outputs": [
    {
     "data": {
      "text/html": [
       "<div>\n",
       "<style scoped>\n",
       "    .dataframe tbody tr th:only-of-type {\n",
       "        vertical-align: middle;\n",
       "    }\n",
       "\n",
       "    .dataframe tbody tr th {\n",
       "        vertical-align: top;\n",
       "    }\n",
       "\n",
       "    .dataframe thead th {\n",
       "        text-align: right;\n",
       "    }\n",
       "</style>\n",
       "<table border=\"1\" class=\"dataframe\">\n",
       "  <thead>\n",
       "    <tr style=\"text-align: right;\">\n",
       "      <th></th>\n",
       "      <th>brand</th>\n",
       "      <th>model</th>\n",
       "      <th>model_year</th>\n",
       "      <th>milage</th>\n",
       "      <th>fuel_type</th>\n",
       "      <th>engine</th>\n",
       "      <th>transmission</th>\n",
       "      <th>ext_col</th>\n",
       "      <th>int_col</th>\n",
       "      <th>accident</th>\n",
       "      <th>clean_title</th>\n",
       "      <th>price</th>\n",
       "    </tr>\n",
       "  </thead>\n",
       "  <tbody>\n",
       "    <tr>\n",
       "      <th>9</th>\n",
       "      <td>Tesla</td>\n",
       "      <td>Model X Long Range Plus</td>\n",
       "      <td>2020</td>\n",
       "      <td>34,000 mi.</td>\n",
       "      <td>NaN</td>\n",
       "      <td>534.0HP Electric Motor Electric Fuel System</td>\n",
       "      <td>A/T</td>\n",
       "      <td>Black</td>\n",
       "      <td>Black</td>\n",
       "      <td>None reported</td>\n",
       "      <td>Yes</td>\n",
       "      <td>$69,950</td>\n",
       "    </tr>\n",
       "    <tr>\n",
       "      <th>44</th>\n",
       "      <td>Lucid</td>\n",
       "      <td>Air Grand Touring</td>\n",
       "      <td>2022</td>\n",
       "      <td>3,552 mi.</td>\n",
       "      <td>NaN</td>\n",
       "      <td>536.0HP Electric Motor Electric Fuel System</td>\n",
       "      <td>1-Speed A/T</td>\n",
       "      <td>Red</td>\n",
       "      <td>Beige</td>\n",
       "      <td>None reported</td>\n",
       "      <td>Yes</td>\n",
       "      <td>$119,999</td>\n",
       "    </tr>\n",
       "    <tr>\n",
       "      <th>68</th>\n",
       "      <td>Lucid</td>\n",
       "      <td>Air Grand Touring</td>\n",
       "      <td>2022</td>\n",
       "      <td>4,900 mi.</td>\n",
       "      <td>NaN</td>\n",
       "      <td>536.0HP Electric Motor Electric Fuel System</td>\n",
       "      <td>1-Speed A/T</td>\n",
       "      <td>Red</td>\n",
       "      <td>Black</td>\n",
       "      <td>None reported</td>\n",
       "      <td>Yes</td>\n",
       "      <td>$99,000</td>\n",
       "    </tr>\n",
       "    <tr>\n",
       "      <th>92</th>\n",
       "      <td>Rivian</td>\n",
       "      <td>R1S Adventure Package</td>\n",
       "      <td>2023</td>\n",
       "      <td>2,800 mi.</td>\n",
       "      <td>NaN</td>\n",
       "      <td>835.0HP Electric Motor Electric Fuel System</td>\n",
       "      <td>1-Speed A/T</td>\n",
       "      <td>White</td>\n",
       "      <td>Green</td>\n",
       "      <td>None reported</td>\n",
       "      <td>Yes</td>\n",
       "      <td>$92,000</td>\n",
       "    </tr>\n",
       "    <tr>\n",
       "      <th>122</th>\n",
       "      <td>Rivian</td>\n",
       "      <td>R1S Adventure Package</td>\n",
       "      <td>2023</td>\n",
       "      <td>2,500 mi.</td>\n",
       "      <td>NaN</td>\n",
       "      <td>835.0HP Electric Motor Electric Fuel System</td>\n",
       "      <td>A/T</td>\n",
       "      <td>Green</td>\n",
       "      <td>White</td>\n",
       "      <td>None reported</td>\n",
       "      <td>Yes</td>\n",
       "      <td>$94,000</td>\n",
       "    </tr>\n",
       "    <tr>\n",
       "      <th>...</th>\n",
       "      <td>...</td>\n",
       "      <td>...</td>\n",
       "      <td>...</td>\n",
       "      <td>...</td>\n",
       "      <td>...</td>\n",
       "      <td>...</td>\n",
       "      <td>...</td>\n",
       "      <td>...</td>\n",
       "      <td>...</td>\n",
       "      <td>...</td>\n",
       "      <td>...</td>\n",
       "      <td>...</td>\n",
       "    </tr>\n",
       "    <tr>\n",
       "      <th>3908</th>\n",
       "      <td>Tesla</td>\n",
       "      <td>Model Y Long Range</td>\n",
       "      <td>2021</td>\n",
       "      <td>49,252 mi.</td>\n",
       "      <td>NaN</td>\n",
       "      <td>Electric</td>\n",
       "      <td>1-Speed Automatic</td>\n",
       "      <td>Deep Blue Metallic</td>\n",
       "      <td>Black</td>\n",
       "      <td>None reported</td>\n",
       "      <td>No</td>\n",
       "      <td>$37,999</td>\n",
       "    </tr>\n",
       "    <tr>\n",
       "      <th>3913</th>\n",
       "      <td>Tesla</td>\n",
       "      <td>Model S 100D</td>\n",
       "      <td>2018</td>\n",
       "      <td>65,000 mi.</td>\n",
       "      <td>NaN</td>\n",
       "      <td>518.0HP Electric Motor Electric Fuel System</td>\n",
       "      <td>A/T</td>\n",
       "      <td>Blue</td>\n",
       "      <td>Black</td>\n",
       "      <td>None reported</td>\n",
       "      <td>Yes</td>\n",
       "      <td>$41,000</td>\n",
       "    </tr>\n",
       "    <tr>\n",
       "      <th>3932</th>\n",
       "      <td>Tesla</td>\n",
       "      <td>Model X Performance</td>\n",
       "      <td>2020</td>\n",
       "      <td>25,535 mi.</td>\n",
       "      <td>NaN</td>\n",
       "      <td>778.0HP Electric Motor Electric Fuel System</td>\n",
       "      <td>A/T</td>\n",
       "      <td>White</td>\n",
       "      <td>Beige</td>\n",
       "      <td>None reported</td>\n",
       "      <td>Yes</td>\n",
       "      <td>$68,969</td>\n",
       "    </tr>\n",
       "    <tr>\n",
       "      <th>3961</th>\n",
       "      <td>Tesla</td>\n",
       "      <td>Model 3 Long Range</td>\n",
       "      <td>2021</td>\n",
       "      <td>23,749 mi.</td>\n",
       "      <td>NaN</td>\n",
       "      <td>Electric</td>\n",
       "      <td>1-Speed Automatic</td>\n",
       "      <td>White</td>\n",
       "      <td>Black</td>\n",
       "      <td>None reported</td>\n",
       "      <td>No</td>\n",
       "      <td>$35,999</td>\n",
       "    </tr>\n",
       "    <tr>\n",
       "      <th>4006</th>\n",
       "      <td>Porsche</td>\n",
       "      <td>Taycan</td>\n",
       "      <td>2022</td>\n",
       "      <td>2,116 mi.</td>\n",
       "      <td>NaN</td>\n",
       "      <td>Electric</td>\n",
       "      <td>Automatic</td>\n",
       "      <td>Black</td>\n",
       "      <td>Black</td>\n",
       "      <td>None reported</td>\n",
       "      <td>No</td>\n",
       "      <td>$90,998</td>\n",
       "    </tr>\n",
       "  </tbody>\n",
       "</table>\n",
       "<p>170 rows × 12 columns</p>\n",
       "</div>"
      ],
      "text/plain": [
       "        brand                    model  model_year      milage fuel_type  \\\n",
       "9       Tesla  Model X Long Range Plus        2020  34,000 mi.       NaN   \n",
       "44      Lucid        Air Grand Touring        2022   3,552 mi.       NaN   \n",
       "68      Lucid        Air Grand Touring        2022   4,900 mi.       NaN   \n",
       "92     Rivian    R1S Adventure Package        2023   2,800 mi.       NaN   \n",
       "122    Rivian    R1S Adventure Package        2023   2,500 mi.       NaN   \n",
       "...       ...                      ...         ...         ...       ...   \n",
       "3908    Tesla       Model Y Long Range        2021  49,252 mi.       NaN   \n",
       "3913    Tesla             Model S 100D        2018  65,000 mi.       NaN   \n",
       "3932    Tesla      Model X Performance        2020  25,535 mi.       NaN   \n",
       "3961    Tesla       Model 3 Long Range        2021  23,749 mi.       NaN   \n",
       "4006  Porsche                   Taycan        2022   2,116 mi.       NaN   \n",
       "\n",
       "                                           engine       transmission  \\\n",
       "9     534.0HP Electric Motor Electric Fuel System                A/T   \n",
       "44    536.0HP Electric Motor Electric Fuel System        1-Speed A/T   \n",
       "68    536.0HP Electric Motor Electric Fuel System        1-Speed A/T   \n",
       "92    835.0HP Electric Motor Electric Fuel System        1-Speed A/T   \n",
       "122   835.0HP Electric Motor Electric Fuel System                A/T   \n",
       "...                                           ...                ...   \n",
       "3908                                     Electric  1-Speed Automatic   \n",
       "3913  518.0HP Electric Motor Electric Fuel System                A/T   \n",
       "3932  778.0HP Electric Motor Electric Fuel System                A/T   \n",
       "3961                                     Electric  1-Speed Automatic   \n",
       "4006                                     Electric          Automatic   \n",
       "\n",
       "                 ext_col int_col       accident clean_title     price  \n",
       "9                  Black   Black  None reported         Yes   $69,950  \n",
       "44                   Red   Beige  None reported         Yes  $119,999  \n",
       "68                   Red   Black  None reported         Yes   $99,000  \n",
       "92                 White   Green  None reported         Yes   $92,000  \n",
       "122                Green   White  None reported         Yes   $94,000  \n",
       "...                  ...     ...            ...         ...       ...  \n",
       "3908  Deep Blue Metallic   Black  None reported          No   $37,999  \n",
       "3913                Blue   Black  None reported         Yes   $41,000  \n",
       "3932               White   Beige  None reported         Yes   $68,969  \n",
       "3961               White   Black  None reported          No   $35,999  \n",
       "4006               Black   Black  None reported          No   $90,998  \n",
       "\n",
       "[170 rows x 12 columns]"
      ]
     },
     "execution_count": 50,
     "metadata": {},
     "output_type": "execute_result"
    }
   ],
   "source": [
    "mapped_df.loc[mapped_df['fuel_type'].isna()]"
   ]
  },
  {
   "cell_type": "markdown",
   "metadata": {
    "id": "_J5evPIU26Z2"
   },
   "source": [
    "**Answer:** \n",
    "\n",
    "Electric"
   ]
  },
  {
   "cell_type": "markdown",
   "metadata": {
    "id": "TmkxgzNu3jTU"
   },
   "source": [
    "Based on your former findings, you decide to map the NaN values of the column fuel_type to a value. Choose a suitable value. **[1 point]**"
   ]
  },
  {
   "cell_type": "code",
   "execution_count": 64,
   "metadata": {
    "id": "jMKjWkDb25P4"
   },
   "outputs": [
    {
     "data": {
      "text/plain": [
       "Int64Index([ 130,  257,  338,  491,  692,  855,  923,  995, 1063, 1083, 1084,\n",
       "            1088, 1134, 1269, 1294, 1355, 1615, 1643, 1681, 1746, 1805, 1956,\n",
       "            2026, 2103, 2115, 2303, 2447, 2448, 2505, 2574, 2608, 2837, 2854,\n",
       "            2894, 3039, 3068, 3150, 3213, 3413, 3469, 3572, 3700, 3702, 3918,\n",
       "            3922, 3952, 3984],\n",
       "           dtype='int64')"
      ]
     },
     "execution_count": 64,
     "metadata": {},
     "output_type": "execute_result"
    }
   ],
   "source": [
    "mapped_df = mapped_df.fillna({'fuel_type': 'Electric'})"
   ]
  },
  {
   "cell_type": "markdown",
   "metadata": {
    "id": "F7LaEYJ_5nWs"
   },
   "source": [
    "You investigate the other values of the fuel_type column. You decide to remove entries that either have *'–'* or *'not supported'* as values. **[1 point]**"
   ]
  },
  {
   "cell_type": "code",
   "execution_count": 65,
   "metadata": {
    "id": "fZwis8Vw57Lo"
   },
   "outputs": [],
   "source": [
    "dropped_df = mapped_df.drop(mapped_df[ (mapped_df.fuel_type == '–') | (mapped_df.fuel_type == 'not supported')].index)"
   ]
  },
  {
   "cell_type": "markdown",
   "metadata": {
    "id": "egIxkmDx6Oxu"
   },
   "source": [
    "How many rows does your final dataframe have? Are there any NaN values left in the columns? **[1 point]**"
   ]
  },
  {
   "cell_type": "code",
   "execution_count": 74,
   "metadata": {
    "colab": {
     "base_uri": "https://localhost:8080/"
    },
    "id": "SUaiglj36BNF",
    "outputId": "148a754a-332b-4fdf-b0bf-131164a5fc33"
   },
   "outputs": [
    {
     "name": "stdout",
     "output_type": "stream",
     "text": [
      "(3962, 12)\n"
     ]
    },
    {
     "data": {
      "text/plain": [
       "[]"
      ]
     },
     "execution_count": 74,
     "metadata": {},
     "output_type": "execute_result"
    }
   ],
   "source": [
    "print(dropped_df.shape)\n",
    "dropped_df.columns[dropped_df.isna().any()].tolist()"
   ]
  },
  {
   "cell_type": "markdown",
   "metadata": {
    "id": "4Rhw_sx66cat"
   },
   "source": [
    "**Answer:** \n",
    "\n",
    "3962 rows and no NaN values left"
   ]
  },
  {
   "cell_type": "markdown",
   "metadata": {
    "id": "0oC-cOv97N9U",
    "tags": []
   },
   "source": [
    "# Q2: Exploring the dataset **[14 points]**"
   ]
  },
  {
   "cell_type": "markdown",
   "metadata": {
    "id": "-b8scnXg6qOc"
   },
   "source": [
    "From now on, use the dataset `used_cars_preprocessed.csv`."
   ]
  },
  {
   "cell_type": "code",
   "execution_count": 3,
   "metadata": {},
   "outputs": [
    {
     "data": {
      "text/html": [
       "<div>\n",
       "<style scoped>\n",
       "    .dataframe tbody tr th:only-of-type {\n",
       "        vertical-align: middle;\n",
       "    }\n",
       "\n",
       "    .dataframe tbody tr th {\n",
       "        vertical-align: top;\n",
       "    }\n",
       "\n",
       "    .dataframe thead th {\n",
       "        text-align: right;\n",
       "    }\n",
       "</style>\n",
       "<table border=\"1\" class=\"dataframe\">\n",
       "  <thead>\n",
       "    <tr style=\"text-align: right;\">\n",
       "      <th></th>\n",
       "      <th>brand</th>\n",
       "      <th>model</th>\n",
       "      <th>model_year</th>\n",
       "      <th>milage</th>\n",
       "      <th>fuel_type</th>\n",
       "      <th>engine</th>\n",
       "      <th>transmission</th>\n",
       "      <th>ext_col</th>\n",
       "      <th>int_col</th>\n",
       "      <th>accident</th>\n",
       "      <th>clean_title</th>\n",
       "      <th>price</th>\n",
       "      <th>horsepower</th>\n",
       "      <th>litres</th>\n",
       "      <th>cylinders</th>\n",
       "    </tr>\n",
       "  </thead>\n",
       "  <tbody>\n",
       "    <tr>\n",
       "      <th>0</th>\n",
       "      <td>Ford</td>\n",
       "      <td>Utility Police Interceptor Base</td>\n",
       "      <td>2013</td>\n",
       "      <td>51000</td>\n",
       "      <td>E85 Flex Fuel</td>\n",
       "      <td>300.0HP 3.7L V6 Cylinder Engine Flex Fuel Capa...</td>\n",
       "      <td>6-Speed A/T</td>\n",
       "      <td>Black</td>\n",
       "      <td>Black</td>\n",
       "      <td>At least 1 accident or damage reported</td>\n",
       "      <td>Yes</td>\n",
       "      <td>10300</td>\n",
       "      <td>300.0</td>\n",
       "      <td>3.7</td>\n",
       "      <td>6.0</td>\n",
       "    </tr>\n",
       "    <tr>\n",
       "      <th>1</th>\n",
       "      <td>Hyundai</td>\n",
       "      <td>Palisade SEL</td>\n",
       "      <td>2021</td>\n",
       "      <td>34742</td>\n",
       "      <td>Gasoline</td>\n",
       "      <td>3.8L V6 24V GDI DOHC</td>\n",
       "      <td>8-Speed Automatic</td>\n",
       "      <td>White</td>\n",
       "      <td>Gray</td>\n",
       "      <td>At least 1 accident or damage reported</td>\n",
       "      <td>Yes</td>\n",
       "      <td>38005</td>\n",
       "      <td>318.0</td>\n",
       "      <td>3.8</td>\n",
       "      <td>6.0</td>\n",
       "    </tr>\n",
       "    <tr>\n",
       "      <th>2</th>\n",
       "      <td>Lexus</td>\n",
       "      <td>RX 350 RX 350</td>\n",
       "      <td>2022</td>\n",
       "      <td>22372</td>\n",
       "      <td>Gasoline</td>\n",
       "      <td>3.5 Liter DOHC</td>\n",
       "      <td>Automatic</td>\n",
       "      <td>Blue</td>\n",
       "      <td>Black</td>\n",
       "      <td>None reported</td>\n",
       "      <td>No</td>\n",
       "      <td>54598</td>\n",
       "      <td>336.0</td>\n",
       "      <td>3.5</td>\n",
       "      <td>6.0</td>\n",
       "    </tr>\n",
       "    <tr>\n",
       "      <th>3</th>\n",
       "      <td>INFINITI</td>\n",
       "      <td>Q50 Hybrid Sport</td>\n",
       "      <td>2015</td>\n",
       "      <td>88900</td>\n",
       "      <td>Hybrid</td>\n",
       "      <td>354.0HP 3.5L V6 Cylinder Engine Gas/Electric H...</td>\n",
       "      <td>7-Speed A/T</td>\n",
       "      <td>Black</td>\n",
       "      <td>Black</td>\n",
       "      <td>None reported</td>\n",
       "      <td>Yes</td>\n",
       "      <td>15500</td>\n",
       "      <td>354.0</td>\n",
       "      <td>3.5</td>\n",
       "      <td>6.0</td>\n",
       "    </tr>\n",
       "    <tr>\n",
       "      <th>4</th>\n",
       "      <td>Audi</td>\n",
       "      <td>Q3 45 S line Premium Plus</td>\n",
       "      <td>2021</td>\n",
       "      <td>9835</td>\n",
       "      <td>Gasoline</td>\n",
       "      <td>2.0L I4 16V GDI DOHC Turbo</td>\n",
       "      <td>8-Speed Automatic</td>\n",
       "      <td>Green</td>\n",
       "      <td>Black</td>\n",
       "      <td>None reported</td>\n",
       "      <td>No</td>\n",
       "      <td>34999</td>\n",
       "      <td>333.0</td>\n",
       "      <td>2.0</td>\n",
       "      <td>4.0</td>\n",
       "    </tr>\n",
       "    <tr>\n",
       "      <th>...</th>\n",
       "      <td>...</td>\n",
       "      <td>...</td>\n",
       "      <td>...</td>\n",
       "      <td>...</td>\n",
       "      <td>...</td>\n",
       "      <td>...</td>\n",
       "      <td>...</td>\n",
       "      <td>...</td>\n",
       "      <td>...</td>\n",
       "      <td>...</td>\n",
       "      <td>...</td>\n",
       "      <td>...</td>\n",
       "      <td>...</td>\n",
       "      <td>...</td>\n",
       "      <td>...</td>\n",
       "    </tr>\n",
       "    <tr>\n",
       "      <th>3526</th>\n",
       "      <td>Volkswagen</td>\n",
       "      <td>Routan SE</td>\n",
       "      <td>2011</td>\n",
       "      <td>194000</td>\n",
       "      <td>Gasoline</td>\n",
       "      <td>283.0HP 3.6L V6 Cylinder Engine Gasoline Fuel</td>\n",
       "      <td>Transmission w/Dual Shift Mode</td>\n",
       "      <td>Black</td>\n",
       "      <td>Gray</td>\n",
       "      <td>At least 1 accident or damage reported</td>\n",
       "      <td>Yes</td>\n",
       "      <td>3500</td>\n",
       "      <td>283.0</td>\n",
       "      <td>3.6</td>\n",
       "      <td>6.0</td>\n",
       "    </tr>\n",
       "    <tr>\n",
       "      <th>3527</th>\n",
       "      <td>Mercedes-Benz</td>\n",
       "      <td>E-Class E 300 4MATIC</td>\n",
       "      <td>2018</td>\n",
       "      <td>53705</td>\n",
       "      <td>Gasoline</td>\n",
       "      <td>241.0HP 2.0L 4 Cylinder Engine Gasoline Fuel</td>\n",
       "      <td>A/T</td>\n",
       "      <td>Black</td>\n",
       "      <td>Black</td>\n",
       "      <td>At least 1 accident or damage reported</td>\n",
       "      <td>Yes</td>\n",
       "      <td>25900</td>\n",
       "      <td>241.0</td>\n",
       "      <td>2.0</td>\n",
       "      <td>4.0</td>\n",
       "    </tr>\n",
       "    <tr>\n",
       "      <th>3528</th>\n",
       "      <td>Audi</td>\n",
       "      <td>S4 3.0T Premium Plus</td>\n",
       "      <td>2022</td>\n",
       "      <td>10900</td>\n",
       "      <td>Gasoline</td>\n",
       "      <td>349.0HP 3.0L V6 Cylinder Engine Gasoline Fuel</td>\n",
       "      <td>Transmission w/Dual Shift Mode</td>\n",
       "      <td>Black</td>\n",
       "      <td>Black</td>\n",
       "      <td>None reported</td>\n",
       "      <td>Yes</td>\n",
       "      <td>53900</td>\n",
       "      <td>349.0</td>\n",
       "      <td>3.0</td>\n",
       "      <td>6.0</td>\n",
       "    </tr>\n",
       "    <tr>\n",
       "      <th>3529</th>\n",
       "      <td>Ford</td>\n",
       "      <td>F-150 Raptor</td>\n",
       "      <td>2020</td>\n",
       "      <td>33000</td>\n",
       "      <td>Gasoline</td>\n",
       "      <td>450.0HP 3.5L V6 Cylinder Engine Gasoline Fuel</td>\n",
       "      <td>A/T</td>\n",
       "      <td>Blue</td>\n",
       "      <td>Black</td>\n",
       "      <td>None reported</td>\n",
       "      <td>Yes</td>\n",
       "      <td>62999</td>\n",
       "      <td>450.0</td>\n",
       "      <td>3.5</td>\n",
       "      <td>6.0</td>\n",
       "    </tr>\n",
       "    <tr>\n",
       "      <th>3530</th>\n",
       "      <td>BMW</td>\n",
       "      <td>X3 xDrive30i</td>\n",
       "      <td>2020</td>\n",
       "      <td>43000</td>\n",
       "      <td>Gasoline</td>\n",
       "      <td>248.0HP 2.0L 4 Cylinder Engine Gasoline Fuel</td>\n",
       "      <td>A/T</td>\n",
       "      <td>Gray</td>\n",
       "      <td>Brown</td>\n",
       "      <td>At least 1 accident or damage reported</td>\n",
       "      <td>Yes</td>\n",
       "      <td>40000</td>\n",
       "      <td>248.0</td>\n",
       "      <td>2.0</td>\n",
       "      <td>4.0</td>\n",
       "    </tr>\n",
       "  </tbody>\n",
       "</table>\n",
       "<p>3531 rows × 15 columns</p>\n",
       "</div>"
      ],
      "text/plain": [
       "              brand                            model  model_year  milage  \\\n",
       "0              Ford  Utility Police Interceptor Base        2013   51000   \n",
       "1           Hyundai                     Palisade SEL        2021   34742   \n",
       "2             Lexus                    RX 350 RX 350        2022   22372   \n",
       "3          INFINITI                 Q50 Hybrid Sport        2015   88900   \n",
       "4              Audi        Q3 45 S line Premium Plus        2021    9835   \n",
       "...             ...                              ...         ...     ...   \n",
       "3526     Volkswagen                        Routan SE        2011  194000   \n",
       "3527  Mercedes-Benz             E-Class E 300 4MATIC        2018   53705   \n",
       "3528           Audi             S4 3.0T Premium Plus        2022   10900   \n",
       "3529           Ford                     F-150 Raptor        2020   33000   \n",
       "3530            BMW                     X3 xDrive30i        2020   43000   \n",
       "\n",
       "          fuel_type                                             engine  \\\n",
       "0     E85 Flex Fuel  300.0HP 3.7L V6 Cylinder Engine Flex Fuel Capa...   \n",
       "1          Gasoline                               3.8L V6 24V GDI DOHC   \n",
       "2          Gasoline                                     3.5 Liter DOHC   \n",
       "3            Hybrid  354.0HP 3.5L V6 Cylinder Engine Gas/Electric H...   \n",
       "4          Gasoline                         2.0L I4 16V GDI DOHC Turbo   \n",
       "...             ...                                                ...   \n",
       "3526       Gasoline      283.0HP 3.6L V6 Cylinder Engine Gasoline Fuel   \n",
       "3527       Gasoline       241.0HP 2.0L 4 Cylinder Engine Gasoline Fuel   \n",
       "3528       Gasoline      349.0HP 3.0L V6 Cylinder Engine Gasoline Fuel   \n",
       "3529       Gasoline      450.0HP 3.5L V6 Cylinder Engine Gasoline Fuel   \n",
       "3530       Gasoline       248.0HP 2.0L 4 Cylinder Engine Gasoline Fuel   \n",
       "\n",
       "                        transmission ext_col int_col  \\\n",
       "0                        6-Speed A/T   Black   Black   \n",
       "1                  8-Speed Automatic   White    Gray   \n",
       "2                          Automatic    Blue   Black   \n",
       "3                        7-Speed A/T   Black   Black   \n",
       "4                  8-Speed Automatic   Green   Black   \n",
       "...                              ...     ...     ...   \n",
       "3526  Transmission w/Dual Shift Mode   Black    Gray   \n",
       "3527                             A/T   Black   Black   \n",
       "3528  Transmission w/Dual Shift Mode   Black   Black   \n",
       "3529                             A/T    Blue   Black   \n",
       "3530                             A/T    Gray   Brown   \n",
       "\n",
       "                                    accident clean_title  price  horsepower  \\\n",
       "0     At least 1 accident or damage reported         Yes  10300       300.0   \n",
       "1     At least 1 accident or damage reported         Yes  38005       318.0   \n",
       "2                              None reported          No  54598       336.0   \n",
       "3                              None reported         Yes  15500       354.0   \n",
       "4                              None reported          No  34999       333.0   \n",
       "...                                      ...         ...    ...         ...   \n",
       "3526  At least 1 accident or damage reported         Yes   3500       283.0   \n",
       "3527  At least 1 accident or damage reported         Yes  25900       241.0   \n",
       "3528                           None reported         Yes  53900       349.0   \n",
       "3529                           None reported         Yes  62999       450.0   \n",
       "3530  At least 1 accident or damage reported         Yes  40000       248.0   \n",
       "\n",
       "      litres  cylinders  \n",
       "0        3.7        6.0  \n",
       "1        3.8        6.0  \n",
       "2        3.5        6.0  \n",
       "3        3.5        6.0  \n",
       "4        2.0        4.0  \n",
       "...      ...        ...  \n",
       "3526     3.6        6.0  \n",
       "3527     2.0        4.0  \n",
       "3528     3.0        6.0  \n",
       "3529     3.5        6.0  \n",
       "3530     2.0        4.0  \n",
       "\n",
       "[3531 rows x 15 columns]"
      ]
     },
     "metadata": {},
     "output_type": "display_data"
    }
   ],
   "source": [
    "df = pd.read_csv(\"used_cars_preprocessed.csv\")\n",
    "display(df)"
   ]
  },
  {
   "cell_type": "markdown",
   "metadata": {
    "id": "a12magpBtJof"
   },
   "source": [
    "In the following, you want to explore the dataset. "
   ]
  },
  {
   "cell_type": "markdown",
   "metadata": {},
   "source": [
    "## (a) Exploration of the target feature **[4 points]**\n",
    "\n",
    "You are interested in automatically determining the price of a sold car. To do so, you apply your data science knowledge on predictions. You first create a boxplot concerning the price to get an initial impression of the distribution of this attribute. The boxplot should also show the mean. Are there outliers? What can you say about the spread prices? In addition, provide the average price, first and third quartile, and the standard deviation. \n",
    "\n",
    "**[3 points]**"
   ]
  },
  {
   "cell_type": "code",
   "execution_count": 35,
   "metadata": {
    "colab": {
     "base_uri": "https://localhost:8080/",
     "height": 666
    },
    "id": "JllpiawBfkDt",
    "outputId": "661f3c9a-e46c-4629-892f-e3453f1015c4"
   },
   "outputs": [
    {
     "name": "stdout",
     "output_type": "stream",
     "text": [
      "35113.58227131124\n",
      "16000.0\n",
      "44998.5\n",
      "199995.0\n",
      "27683.727120951815\n",
      "87500\n",
      "163\n"
     ]
    },
    {
     "data": {
      "text/plain": [
       "3531"
      ]
     },
     "execution_count": 35,
     "metadata": {},
     "output_type": "execute_result"
    },
    {
     "data": {
      "image/png": "[encoded data removed]",
      "text/plain": [
       "<Figure size 432x288 with 1 Axes>"
      ]
     },
     "metadata": {
      "needs_background": "light"
     },
     "output_type": "display_data"
    }
   ],
   "source": [
    "df.boxplot('price',showmeans=True)\n",
    "print(f'mean: {df.price.mean()}.')\n",
    "print(f'First Quartile: {df.price.quantile(0.25)}.')\n",
    "print(f'Third Quartile: {df.price.quantile(0.75)}.')\n",
    "print(f'standard deviation: {df.price.std()}.')\n",
    "IQR = df.price.quantile(0.75) - df.price.quantile(0.25)\n",
    "Upper_Fence = df.price.quantile(0.75) + (1.5 * IQR)\n",
    "u = max(df.price[df.price < Upper_Fence])\n",
    "print(f'Maximum: {u}.')\n",
    "print(f'Number of outliers: {len(df.price[df.price > Upper_Fence])}.')"
   ]
  },
  {
   "cell_type": "markdown",
   "metadata": {
    "id": "k5PQhyaCgqc1"
   },
   "source": [
    "**Answer:** \n",
    "\n",
    "Massive outliers over the maximum, about 163 entries. Most of the prices are distributed between 16000 and 44998.5. The maximum price without the outliers is about 87500."
   ]
  },
  {
   "cell_type": "markdown",
   "metadata": {
    "id": "Zzv30GVyhK7k"
   },
   "source": [
    "To get deeper insight into the price distribution, you decide to create a histogram. Choose an appropriate number of bins to get an informative plot. What do you observe? \n",
    "\n",
    "**[1 point]**"
   ]
  },
  {
   "cell_type": "code",
   "execution_count": 39,
   "metadata": {
    "colab": {
     "base_uri": "https://localhost:8080/",
     "height": 467
    },
    "id": "FmFwyExGhKTG",
    "outputId": "46ddf3b2-45fc-47b9-b7f6-c6981c217559"
   },
   "outputs": [
    {
     "name": "stdout",
     "output_type": "stream",
     "text": [
      "57997.0\n"
     ]
    },
    {
     "data": {
      "image/png": "[encoded data removed]",
      "text/plain": [
       "<Figure size 432x288 with 1 Axes>"
      ]
     },
     "metadata": {
      "needs_background": "light"
     },
     "output_type": "display_data"
    }
   ],
   "source": [
    "df.hist('price',bins = 100)"
   ]
  },
  {
   "cell_type": "markdown",
   "metadata": {
    "id": "_8lvd4dnjZTu"
   },
   "source": [
    "**Answer:** \n",
    "\n",
    "The histogram is skewed right. Most of the prices are distributed 0 and 50000."
   ]
  },
  {
   "cell_type": "markdown",
   "metadata": {
    "id": "je9v751w5OWN"
   },
   "source": [
    "## (b) Exploration of correlations **[10 points]**"
   ]
  },
  {
   "cell_type": "markdown",
   "metadata": {},
   "source": [
    "Next, you want to investigate possible correlations of other variables with the target feature."
   ]
  },
  {
   "cell_type": "markdown",
   "metadata": {},
   "source": [
    "### (i) Correleation with numerical attributes\n",
    "\n",
    "To do so, you create a correlation matrix of the numeric values of dataset. Intepret the correlation values you found between price and *model_year*, *milage*, *horsepower*, *litres*, and *cylinders*. \n",
    "\n",
    "**[3 points]**"
   ]
  },
  {
   "cell_type": "code",
   "execution_count": 42,
   "metadata": {
    "colab": {
     "base_uri": "https://localhost:8080/",
     "height": 537
    },
    "id": "1jWJRjv45L7V",
    "outputId": "f1513f81-012e-4a83-cc83-1a0aa2f63fb0"
   },
   "outputs": [
    {
     "data": {
      "text/html": [
       "<div>\n",
       "<style scoped>\n",
       "    .dataframe tbody tr th:only-of-type {\n",
       "        vertical-align: middle;\n",
       "    }\n",
       "\n",
       "    .dataframe tbody tr th {\n",
       "        vertical-align: top;\n",
       "    }\n",
       "\n",
       "    .dataframe thead th {\n",
       "        text-align: right;\n",
       "    }\n",
       "</style>\n",
       "<table border=\"1\" class=\"dataframe\">\n",
       "  <thead>\n",
       "    <tr style=\"text-align: right;\">\n",
       "      <th></th>\n",
       "      <th>model_year</th>\n",
       "      <th>milage</th>\n",
       "      <th>price</th>\n",
       "      <th>horsepower</th>\n",
       "      <th>litres</th>\n",
       "      <th>cylinders</th>\n",
       "    </tr>\n",
       "  </thead>\n",
       "  <tbody>\n",
       "    <tr>\n",
       "      <th>model_year</th>\n",
       "      <td>1.000000</td>\n",
       "      <td>-0.586696</td>\n",
       "      <td>0.486867</td>\n",
       "      <td>0.244959</td>\n",
       "      <td>-0.122781</td>\n",
       "      <td>-0.130185</td>\n",
       "    </tr>\n",
       "    <tr>\n",
       "      <th>milage</th>\n",
       "      <td>-0.586696</td>\n",
       "      <td>1.000000</td>\n",
       "      <td>-0.558964</td>\n",
       "      <td>-0.281965</td>\n",
       "      <td>0.087578</td>\n",
       "      <td>0.032671</td>\n",
       "    </tr>\n",
       "    <tr>\n",
       "      <th>price</th>\n",
       "      <td>0.486867</td>\n",
       "      <td>-0.558964</td>\n",
       "      <td>1.000000</td>\n",
       "      <td>0.545003</td>\n",
       "      <td>0.240132</td>\n",
       "      <td>0.308251</td>\n",
       "    </tr>\n",
       "    <tr>\n",
       "      <th>horsepower</th>\n",
       "      <td>0.244959</td>\n",
       "      <td>-0.281965</td>\n",
       "      <td>0.545003</td>\n",
       "      <td>1.000000</td>\n",
       "      <td>0.537658</td>\n",
       "      <td>0.611432</td>\n",
       "    </tr>\n",
       "    <tr>\n",
       "      <th>litres</th>\n",
       "      <td>-0.122781</td>\n",
       "      <td>0.087578</td>\n",
       "      <td>0.240132</td>\n",
       "      <td>0.537658</td>\n",
       "      <td>1.000000</td>\n",
       "      <td>0.848685</td>\n",
       "    </tr>\n",
       "    <tr>\n",
       "      <th>cylinders</th>\n",
       "      <td>-0.130185</td>\n",
       "      <td>0.032671</td>\n",
       "      <td>0.308251</td>\n",
       "      <td>0.611432</td>\n",
       "      <td>0.848685</td>\n",
       "      <td>1.000000</td>\n",
       "    </tr>\n",
       "  </tbody>\n",
       "</table>\n",
       "</div>"
      ],
      "text/plain": [
       "            model_year    milage     price  horsepower    litres  cylinders\n",
       "model_year    1.000000 -0.586696  0.486867    0.244959 -0.122781  -0.130185\n",
       "milage       -0.586696  1.000000 -0.558964   -0.281965  0.087578   0.032671\n",
       "price         0.486867 -0.558964  1.000000    0.545003  0.240132   0.308251\n",
       "horsepower    0.244959 -0.281965  0.545003    1.000000  0.537658   0.611432\n",
       "litres       -0.122781  0.087578  0.240132    0.537658  1.000000   0.848685\n",
       "cylinders    -0.130185  0.032671  0.308251    0.611432  0.848685   1.000000"
      ]
     },
     "execution_count": 42,
     "metadata": {},
     "output_type": "execute_result"
    }
   ],
   "source": [
    "df.corr()"
   ]
  },
  {
   "cell_type": "markdown",
   "metadata": {
    "id": "jL6mmJ7jqBSr"
   },
   "source": [
    "**Answer:**\n",
    "\n",
    "The model_year has a strong negative correlation towards the milage and a moderate positve correlation exists between model_year and price. The higher the model_year the lower the milage and higher the price. Other correlation are weak.\n",
    "The milage has a strong negative correlation towards the milage and price. The higher the milage the lower model_year and price. The correlation between milage and litres and cylinders are almost zero. So the milage and the other two are not related at all.\n",
    "Other than mentioned above the price has a strong positive correlation towards the horsepower. The more horsepower the car has, the higher the price will be. And the horsepower is also strong positive related towards the litres and cylinders. If the car has high horsepower, the larger the capacity of the engine and the higher the number of the cylinders. There is also a very strong correlation between litres and cylinders. The more cylinders the engine contains, the higher the litres will be.\n",
    "\n"
   ]
  },
  {
   "cell_type": "markdown",
   "metadata": {
    "id": "eQHLQWWePff4"
   },
   "source": [
    "### (ii) Univariate correlations with categorical attributes\n",
    "\n",
    "In the following, you consider the categorical attributes. You start with *brand*, *fuel_type*, *accident*, and *clean_title*. Create boxplots for these features to capture the relationship with *price*, also showing the mean. What do you observe? Are there feature values for which you can clearly identify a relationship to the price attribute? Also, comment on the outliers and potential distribution inside a value's prices. Be brief in your answers. \n",
    "\n",
    "**[2.5 points]**"
   ]
  },
  {
   "cell_type": "code",
   "execution_count": 98,
   "metadata": {
    "colab": {
     "base_uri": "https://localhost:8080/",
     "height": 1000
    },
    "id": "0n8Ei53l_42v",
    "outputId": "2c852ae7-7ea3-4f11-8573-2a1f28d248e5"
   },
   "outputs": [
    {
     "data": {
      "image/png": "[encoded data removed]",
      "text/plain": [
       "<Figure size 3002.4x595.44 with 1 Axes>"
      ]
     },
     "metadata": {},
     "output_type": "display_data"
    },
    {
     "data": {
      "image/png": "[encoded data removed]",
      "text/plain": [
       "<Figure size 3002.4x595.44 with 1 Axes>"
      ]
     },
     "metadata": {},
     "output_type": "display_data"
    },
    {
     "data": {
      "image/png": "[encoded data removed]",
      "text/plain": [
       "<Figure size 3002.4x595.44 with 1 Axes>"
      ]
     },
     "metadata": {},
     "output_type": "display_data"
    },
    {
     "data": {
      "image/png": "[encoded data removed]",
      "text/plain": [
       "<Figure size 3002.4x595.44 with 1 Axes>"
      ]
     },
     "metadata": {},
     "output_type": "display_data"
    },
    {
     "data": {
      "image/png": "[encoded data removed]",
      "text/plain": [
       "<Figure size 3002.4x595.44 with 1 Axes>"
      ]
     },
     "metadata": {},
     "output_type": "display_data"
    }
   ],
   "source": [
    "import seaborn as sb\n",
    "sb.set(rc={'figure.figsize':(41.7,8.27)})\n",
    "half_length_of_brands = len(list(df.groupby(['brand'],observed = True).groups))/2\n",
    "first_half_of_df_brand= df.loc[df['brand'].isin(list(df.groupby(['brand'],observed = True).groups)[0:int(length_of_brands)])]\n",
    "second_half_of_df_brand= df.loc[df['brand'].isin(list(df.groupby(['brand'],observed = True).groups)[int(length_of_brands):])]\n",
    "sb.boxplot( x = 'brand',y = 'price', data = first_half_of_df_brand )\n",
    "plt.show()\n",
    "sb.boxplot( x = 'brand',y = 'price', data = second_half_of_df_brand )\n",
    "# display\n",
    "plt.show()\n",
    "sb.boxplot( x = 'fuel_type',y = 'price', data = df)\n",
    "plt.show()\n",
    "sb.boxplot( x = 'accident',y = 'price', data = df)\n",
    "plt.show()\n",
    "sb.boxplot( x = 'clean_title',y = 'price', data = df)\n",
    "plt.show()"
   ]
  },
  {
   "cell_type": "markdown",
   "metadata": {
    "id": "lNc6qrmHPgJ4"
   },
   "source": [
    "**Answer:**\n",
    "\n",
    "The price of the brands Ferrari,Lamborghini and McLaren are significant higher than the other brands. Aston has the biggest interquartile range, which means that Aston sells car from low to high price and they are eqully distributed. Rolls-Royce and Bentley sell their most cars with the middle price but Bentley has also cars thus have higher price than Ferrari,Lamborghini and McLaren. Bentley has the topmost whisker. As for the fuel types the hybrid has the highest price and the next is the Diesel. E85 Felx Fuel costs the least and the Gasoline has many outliers.\n",
    "The price of the car also depends on wether the car has accident before or not. With at least one accident the price of the car is lower than cars without accident. The clean title of the car has no significant influence on the price."
   ]
  },
  {
   "cell_type": "markdown",
   "metadata": {
    "id": "leERQIvmIoz2"
   },
   "source": [
    "### (iii) Multivariate correlations with categorical attributes\n",
    "\n",
    "As the current analysis provides limited insight, you want to include a multivariate view using boxplots that also show the mean. Again, you decide on *brand*, *fuel_type*, *accident*, and *clean_title* as features. You create a boxplot for each pair of features. Based on these, provide a conclusion. Each of the following cells focuses on one feature in particular. "
   ]
  },
  {
   "cell_type": "code",
   "execution_count": 112,
   "metadata": {
    "colab": {
     "base_uri": "https://localhost:8080/",
     "height": 1000
    },
    "id": "IWX6BC5MPj4m",
    "outputId": "66ff79ed-6875-4c4a-f2a0-e63335b6ea80"
   },
   "outputs": [
    {
     "data": {
      "image/png": "[encoded data removed]",
      "text/plain": [
       "<Figure size 3002.4x595.44 with 1 Axes>"
      ]
     },
     "metadata": {},
     "output_type": "display_data"
    },
    {
     "data": {
      "image/png": "[encoded data removed]",
      "text/plain": [
       "<Figure size 3002.4x595.44 with 1 Axes>"
      ]
     },
     "metadata": {},
     "output_type": "display_data"
    },
    {
     "data": {
      "image/png": "[encoded data removed]",
      "text/plain": [
       "<Figure size 3002.4x595.44 with 1 Axes>"
      ]
     },
     "metadata": {},
     "output_type": "display_data"
    }
   ],
   "source": [
    "# Multivariate analysis for brand\n",
    "# Your code goes here\n",
    "half_length_of_brands = len(list(df.groupby(['brand'],observed = True).groups))/2\n",
    "first_half_of_df_brand= df.loc[df['brand'].isin(list(df.groupby(['brand'],observed = True).groups)[0:int(length_of_brands)])]\n",
    "second_half_of_df_brand= df.loc[df['brand'].isin(list(df.groupby(['brand'],observed = True).groups)[int(length_of_brands):])]\n",
    "sb.boxplot( x = 'brand',y = 'fuel_type', data = df,showmeans=True)\n",
    "# display\n",
    "plt.show()\n",
    "sb.boxplot( x = 'brand',y = 'accident', data = df ,showmeans=True)\n",
    "# display\n",
    "plt.show()\n",
    "sb.boxplot( x = 'brand',y = 'clean_title', data = df ,showmeans=True)\n",
    "# display\n",
    "plt.show()"
   ]
  },
  {
   "cell_type": "markdown",
   "metadata": {
    "id": "vgOMgZX-Kpyp"
   },
   "source": [
    "**Answer: **[2 points]****\n",
    "\n",
    "Most of the brands are using gasoline as fuel_type and Karma sells only electric cars. About the half of the brands sell also car which had accident before and Suzuki sells only cars with accident. All brands sell car with clean title."
   ]
  },
  {
   "cell_type": "code",
   "execution_count": 113,
   "metadata": {
    "colab": {
     "base_uri": "https://localhost:8080/",
     "height": 585
    },
    "id": "rCXHAK8rJ7jS",
    "outputId": "22b785b4-ee35-4d7b-a9b1-17dca8194ba6"
   },
   "outputs": [
    {
     "data": {
      "image/png": "[encoded data removed]",
      "text/plain": [
       "<Figure size 3002.4x595.44 with 1 Axes>"
      ]
     },
     "metadata": {},
     "output_type": "display_data"
    },
    {
     "data": {
      "image/png": "[encoded data removed]",
      "text/plain": [
       "<Figure size 3002.4x595.44 with 1 Axes>"
      ]
     },
     "metadata": {},
     "output_type": "display_data"
    },
    {
     "data": {
      "image/png": "[encoded data removed]",
      "text/plain": [
       "<Figure size 3002.4x595.44 with 1 Axes>"
      ]
     },
     "metadata": {},
     "output_type": "display_data"
    }
   ],
   "source": [
    "# Multivariate analysis for fuel_type\n",
    "# Your code goes here\n",
    "sb.boxplot( x = 'fuel_type',y = 'brand', data = df,showmeans=True)\n",
    "# display\n",
    "plt.show()\n",
    "sb.boxplot( x = 'fuel_type',y = 'accident', data = df ,showmeans=True)\n",
    "# display\n",
    "plt.show()\n",
    "sb.boxplot( x = 'fuel_type',y = 'clean_title', data = df ,showmeans=True)\n",
    "# display\n",
    "plt.show()"
   ]
  },
  {
   "cell_type": "markdown",
   "metadata": {
    "id": "jKgQGWOLvNh3"
   },
   "source": [
    "**Answer: **[1.5 points]****\n",
    "\n",
    "Relation with the brand is mentioned above.\n",
    "There is no cars using electric or Hybrid, which had accident before, but hybrid has outliers. All other fuel types are distributed between at least one accident and no accident, they tend to none accident reported. Cars with any fuel type have clean title and all fuel types have some outliers except Eletric."
   ]
  },
  {
   "cell_type": "code",
   "execution_count": 114,
   "metadata": {
    "colab": {
     "base_uri": "https://localhost:8080/",
     "height": 301
    },
    "id": "AUV-fU3HNsRB",
    "outputId": "f95f213a-da7a-4c6b-d20d-7811f162c33b"
   },
   "outputs": [
    {
     "data": {
      "image/png": "[encoded data removed]",
      "text/plain": [
       "<Figure size 3002.4x595.44 with 1 Axes>"
      ]
     },
     "metadata": {},
     "output_type": "display_data"
    },
    {
     "data": {
      "image/png": "[encoded data removed]",
      "text/plain": [
       "<Figure size 3002.4x595.44 with 1 Axes>"
      ]
     },
     "metadata": {},
     "output_type": "display_data"
    },
    {
     "data": {
      "image/png": "[encoded data removed]",
      "text/plain": [
       "<Figure size 3002.4x595.44 with 1 Axes>"
      ]
     },
     "metadata": {},
     "output_type": "display_data"
    }
   ],
   "source": [
    "# Multivariate analysis for clean_title\n",
    "# Your code goes here\n",
    "sb.boxplot( x = 'clean_title',y = 'fuel_type', data = df ,showmeans=True)\n",
    "# display\n",
    "plt.show()\n",
    "sb.boxplot( x = 'clean_title',y = 'brand', data = df,showmeans=True)\n",
    "# display\n",
    "plt.show()\n",
    "sb.boxplot( x = 'clean_title',y = 'accident', data = df ,showmeans=True)\n",
    "# display\n",
    "plt.show()\n"
   ]
  },
  {
   "cell_type": "markdown",
   "metadata": {
    "id": "fo9GquJo4zKO"
   },
   "source": [
    "**Answer: [1 point]**\n",
    "\n",
    "Relations with the brand and accident are mentioned above.\n",
    "The cars without clean title had none accident reported before and cars with clean title are distributed between none reported and at least one accident, the distribution tends to none reported."
   ]
  },
  {
   "cell_type": "markdown",
   "metadata": {
    "id": "NbPO6wqYepU0"
   },
   "source": [
    "# Q3: Predicting prices **[62 points]**"
   ]
  },
  {
   "cell_type": "markdown",
   "metadata": {
    "id": "z3hiJEddcUj0"
   },
   "source": [
    "After a long day at the office, you and N. go to a local bar to catch up with your old friend W. Over a round of cold drinks, you begin to share the great news about your booming business. Being an expert in data analytics himself, W. is also curious to hear your plans to apply your data science knowledge.\n",
    "\n",
    "\"I've been thinking about selling my old Porsche to make room for a new one,\" W. says to you. \"I'm wondering what price to set for the old one. This is the perfect opportunity for you to try out your new predictive models, don't you think?\"\n",
    "\n",
    "You agree! W. writes down the properties of his Porsche (in the following, also referred to as *target car*) on a napkin. You tell W. that you will call him as soon as you can make a confident estimate for the price of his car. The next morning, you immediately start working on predictive models for car prices.\n",
    "If not sated otherwise, you use the entire pre-processed dataset to create each of the models - load the dataset new at the beginning of every partial question a), b),...d) so you don't accidentally use data you have changed for a different kind of model. \n"
   ]
  },
  {
   "cell_type": "code",
   "execution_count": null,
   "metadata": {},
   "outputs": [],
   "source": [
    "car = pd.DataFrame([{\n",
    "      \"brand\": \"Porsche\",\n",
    "      \"model\":  \"911 Carrera S\",\n",
    "      \"model_year\": 2015,\n",
    "      \"milage\": 84500.0,\n",
    "      \"fuel_type\": \"Gasoline\",\n",
    "      \"engine\": \"400.0HP 3.8L Flat 6 Cylinder Engine Gasoline Fuel\",\n",
    "      \"transmission\": \"7-Speed A/T\",\n",
    "      \"ext_col\": \"Black\",\n",
    "      \"int_col\": \"Black\",\n",
    "      \"accident\": \"None reported\",\n",
    "      \"clean_title\": \"Yes\",\n",
    "      \"horsepower\": 400.0,\n",
    "      \"litres\": 3.8,\n",
    "      \"cylinders\": 6.0\n",
    "}])"
   ]
  },
  {
   "cell_type": "markdown",
   "metadata": {
    "id": "Y0pvogMLfg-k"
   },
   "source": [
    "## (a) Baseline **[2 points]**"
   ]
  },
  {
   "cell_type": "markdown",
   "metadata": {
    "id": "o41E2aKmeza7"
   },
   "source": [
    "First, you want to set a baseline to compare against. The baseline should always use the average price of all cars as a recommended price. Use the pre-processed dataset and the `train_test_split` from *sklearn* with arguments `random_state=3` and `test_size=0.05`. To stay consistent, the same split between training and test set should be used throughout the entire assignment.\n",
    "\n",
    "What are the values of the mean absolute error and the root-mean-squared error? \n",
    "\n",
    "**[2 points]**"
   ]
  },
  {
   "cell_type": "code",
   "execution_count": null,
   "metadata": {
    "colab": {
     "base_uri": "https://localhost:8080/"
    },
    "id": "mK0wyDXCevs2",
    "outputId": "93d830a0-ffcf-4c94-bbc2-4bee48ebeba9"
   },
   "outputs": [],
   "source": [
    "from sklearn.metrics import mean_absolute_error, mean_squared_error\n",
    "from sklearn.model_selection import train_test_split\n",
    "# Your code here"
   ]
  },
  {
   "cell_type": "markdown",
   "metadata": {
    "id": "akMq51r3XDG7"
   },
   "source": [
    "## (b) Prediction by classification **[16 points]**"
   ]
  },
  {
   "cell_type": "markdown",
   "metadata": {
    "id": "hWPRGo97XFU_"
   },
   "source": [
    "Next, you try to price your car according to similar cars using a decision tree.\n",
    "\n",
    "### (i) Price binning\n",
    "\n",
    "In the following, we want to know the price ranges for selling cars. To use decision trees, you need to discretize prices. We use the following price bins:\n",
    "- [1,800, 10,000]\n",
    "- (10,000, 20,000]\n",
    "- (20,000, 30,000]\n",
    "- (30,000, 40,000]\n",
    "- (40,000, 50,000]\n",
    "- (50,000, 60,000]\n",
    "- (60,000, 80,000]\n",
    "- (80,000, 100,000]\n",
    "- (100,000, 120,000]\n",
    "- (120,000, 140,000]\n",
    "- (140,000, 160,000]\n",
    "- (160,000, 180,000]\n",
    "- (180,000, 220,000]\n",
    "\n",
    "Add the attribute *Price_Bins* to the entire pre-processed data set using the discretization mentioned above for each car. For example, if a car costs 2500, it is put into the bin [1,800, 10,000]. \n",
    "\n",
    "**[1 point]**"
   ]
  },
  {
   "cell_type": "code",
   "execution_count": null,
   "metadata": {
    "id": "oRlg_emyZBWy"
   },
   "outputs": [],
   "source": [
    "# Your code here"
   ]
  },
  {
   "cell_type": "markdown",
   "metadata": {
    "id": "Kj61FRW_IoYG"
   },
   "source": [
    "You predicted a price range for cars. However, since you cannot enter a price range for selling a car, you have to map each bin to a value. To do so, you use the mean of bins to predict the price. For example, the bin (10,000, 20,000] is mapped to 15,000. Create a dictionary you can use for this mapping. \n",
    "\n",
    "**[1 point]**"
   ]
  },
  {
   "cell_type": "code",
   "execution_count": null,
   "metadata": {
    "id": "G6WUeTtr1n_5"
   },
   "outputs": [],
   "source": [
    "# Your code here"
   ]
  },
  {
   "cell_type": "markdown",
   "metadata": {
    "id": "n4rmS7Rqbr05"
   },
   "source": [
    "### (ii) Data transformation for decision trees\n",
    "\n",
    "Using the dataframe extenden by the \"Price_Bins\" column, consider *brand*, *fuel_type*, *model_year*, *accident* and *clean_title* as descriptive features and *Price_Bins* as the target feature. Encode the categorical variables and split your data into a test and training set like before. For the train-test split, use `train_test_split` from *sklearn* with arguments `random_state=3` and `test_size=0.05` again. \n",
    "\n",
    "**[2 points]**"
   ]
  },
  {
   "cell_type": "code",
   "execution_count": null,
   "metadata": {
    "colab": {
     "base_uri": "https://localhost:8080/"
    },
    "id": "6_ci7UaSb-5o",
    "outputId": "6cbb08f2-bb79-46e1-ea03-f5964803fa8e"
   },
   "outputs": [],
   "source": [
    "from sklearn.model_selection import train_test_split\n",
    "# Your code here"
   ]
  },
  {
   "cell_type": "markdown",
   "metadata": {
    "id": "BbJD7UusJS1F"
   },
   "source": [
    "### (iii) Model training\n",
    "\n",
    "In the following, you want to use a good deicision tree for predicting prices. To do so,you want to test a set of different values, in particular, max depth of a tree. You test values in [1, 9] (in steps of size one).\n",
    "\n",
    "You use the the algorithm from the *sklearn* library. You set as criterion \"entropy\", `min_samples_leaf=6`, and `random_state=42`.\n",
    "\n",
    "Your goal is to minimize the mean absolute error. Create the prediction using the bins and only apply the dictionary mapping the bins to means to the predicted values before calculating the error. \n",
    "\n",
    "Create a summarizing plot, in which the x-axis represents the maximum tree depth, and the y-axis the mean absolute error as well as the root-mean-square error.\n",
    "\n",
    "**[5 points]**"
   ]
  },
  {
   "cell_type": "code",
   "execution_count": null,
   "metadata": {
    "colab": {
     "base_uri": "https://localhost:8080/",
     "height": 490
    },
    "id": "LPZW8csYZCmq",
    "outputId": "0f4fbcc9-1c90-4692-f462-fba0f062fc20"
   },
   "outputs": [],
   "source": [
    "from sklearn.metrics import mean_absolute_error, mean_squared_error\n",
    "from sklearn import tree\n",
    "# Your code here"
   ]
  },
  {
   "cell_type": "markdown",
   "metadata": {
    "id": "bEnfqunOKK8_"
   },
   "source": [
    "Condider your plot, which setting minimizes the mean absolute error and which minimizes the root-mean-square error? Which tree depth would you favorize and what are the error values? Round to the second decimal.  \n",
    "\n",
    "**[2 point]**"
   ]
  },
  {
   "cell_type": "markdown",
   "metadata": {
    "id": "k16ZIiUyKVgj"
   },
   "source": [
    "**Answer:**\n",
    "\n",
    "*Your answer here*"
   ]
  },
  {
   "cell_type": "markdown",
   "metadata": {
    "id": "_7aC9UUPKt6L"
   },
   "source": [
    "Create and plot the tree. What is the first attribute to split on? \n",
    "\n",
    "**[2 points]**\n"
   ]
  },
  {
   "cell_type": "code",
   "execution_count": null,
   "metadata": {
    "colab": {
     "base_uri": "https://localhost:8080/",
     "height": 1000
    },
    "id": "hpvZIESR_iVC",
    "outputId": "32cc693a-e513-4c61-9e72-1a1c8ae9db37"
   },
   "outputs": [],
   "source": [
    "from sklearn.tree import plot_tree\n",
    "import matplotlib.pyplot as plt\n",
    "# Your code here"
   ]
  },
  {
   "cell_type": "markdown",
   "metadata": {
    "id": "0vjo6uGTO5lG"
   },
   "source": [
    "**Answer:** \n",
    "\n",
    "*Your answer here*"
   ]
  },
  {
   "cell_type": "markdown",
   "metadata": {
    "id": "84Lnye0Blzdk"
   },
   "source": [
    "What price range does your tree suggest for the following cars:\n",
    "\n",
    "- Porsche, 2004, Gasoline, none accident, and clean title\n",
    "- Mercedes-Benz, 2017, Hybrid, unknown accident, and clean title\n",
    "\n",
    "**[2 points]**"
   ]
  },
  {
   "cell_type": "markdown",
   "metadata": {
    "id": "ts-i7XQRlz84"
   },
   "source": [
    "**Answer**:\n",
    "\n",
    "*Your answer here*"
   ]
  },
  {
   "cell_type": "markdown",
   "metadata": {
    "id": "65wIwK-hozra"
   },
   "source": [
    "### (iv) Price prediction\n",
    "\n",
    "Finally, use the decision tree to predict the price of W.'s car. What is the predicted price? Derive the value from the visualized tree manually (do not use the model's `predict` method). Provide the mean, not the bin.\n",
    "\n",
    "**[1 point]**"
   ]
  },
  {
   "cell_type": "markdown",
   "metadata": {
    "id": "qvAOxWV9dHjX"
   },
   "source": [
    "**Answer**: \n",
    "\n",
    "*Your answer here*"
   ]
  },
  {
   "cell_type": "markdown",
   "metadata": {
    "id": "Q04XdSXomKR9",
    "tags": []
   },
   "source": [
    "## (c) Prediction by clustering **[21 points]**"
   ]
  },
  {
   "cell_type": "code",
   "execution_count": null,
   "metadata": {},
   "outputs": [],
   "source": [
    "import numpy as np\n",
    "import pandas as pd\n",
    "import seaborn as sns\n",
    "from sklearn.preprocessing import OrdinalEncoder, StandardScaler\n",
    "from sklearn.compose import make_column_selector, make_column_transformer\n",
    "from sklearn.model_selection import train_test_split\n",
    "from sklearn.metrics import DistanceMetric\n",
    "from sklearn.cluster import DBSCAN\n",
    "from sklearn.metrics import mean_absolute_error, mean_squared_error\n",
    "import statistics"
   ]
  },
  {
   "cell_type": "code",
   "execution_count": null,
   "metadata": {},
   "outputs": [],
   "source": [
    "# Import dataset\n",
    "df = pd.read_csv(\"used_cars_preprocessed.csv\")"
   ]
  },
  {
   "cell_type": "markdown",
   "metadata": {},
   "source": [
    "You come up with another idea to give W. an estimate on his car price. You want to use clustering to find similar cars and use their average price as an estimate.\n",
    "\n",
    "In this task you use DBSCAN to determine clusters of similar cars. For each cluster, you calculate the mean price as a representative. To predict the price for new cars, you assign it to an existing cluster and give the mean price as prediction."
   ]
  },
  {
   "cell_type": "markdown",
   "metadata": {},
   "source": [
    "### (i) Data transformation for clustering \n",
    "\n",
    "Use *brand*, *milage*, *fuel_type*, *accident*, *clean_title* and *horse_power* as descriptive features and *price* as the target feature. Create a test and training set like before. For the train-test split, use again `train_test_split` from *sklearn* with arguments `random_state=3` and `test_size=0.05`. \n",
    "\n",
    "**[1 point]**"
   ]
  },
  {
   "cell_type": "code",
   "execution_count": null,
   "metadata": {},
   "outputs": [],
   "source": [
    "# Your code here"
   ]
  },
  {
   "cell_type": "markdown",
   "metadata": {},
   "source": [
    "### (ii) Computing the distance matrix\n",
    "\n",
    "DBSCAN determines clusters based on the distance between different data points. Since some of the features you want to use are not numeric, you have to apply some encoding first to be able to use distance measures. \n",
    "\n",
    "For categorical variables, apply ordinal encoding and compute the Hamming distance; for numerical variables, apply standard scaling and compute the Euclidean distance.\n",
    "\n",
    "For the total distance, first, weight the distance of categorical features by the fraction of categorical variables among the complete feature set. Then, add the distance of numerical features weighted by 1 over the total number of features used.\n",
    "\n",
    "In other words: Let $x=(x_{cat},x_{num})^T$ and $y=(y_{cat},y_{num})^T$ be two samples where $x_{cat}$ and $y_{cat}$ represent their categorical features, and $x_{num}$ and $y_{num}$ represent their numerical features. Let $n_{cat}$ be the number of categorical features and $n_{num}$ be the number of numerical features. Then, the total distance $d_{tot}(x,y)$ between $x$ and $y$ is given by\n",
    "\n",
    "$d_{tot}(x,y)=\\dfrac{n_{cat}\\cdot\\Delta(x_{cat},y_{cat})+d(x_{num},y_{num})}{n_{cat}+n_{num}}$\n",
    "\n",
    "where $\\Delta$ is the Hamming distance and $d$ is the Euclidean distance.\n",
    "\n",
    "Provide a matrix of the computed pairwise total distance between all cars in the training set. Keep the same indexing as in the training set.\n",
    "\n",
    "**[4 points]**\n",
    "\n",
    "*Hint*: Use the preprocessing module of sklearn to prepare your dataset for clustering.\n",
    "\n",
    "*Background*: The Hamming distance is already normed on the number of features used and therefore returns a value between 0 and 1 independent from the number of variables."
   ]
  },
  {
   "cell_type": "code",
   "execution_count": null,
   "metadata": {},
   "outputs": [],
   "source": [
    "# Your code here"
   ]
  },
  {
   "cell_type": "markdown",
   "metadata": {},
   "source": [
    "**Note**: From here on, instead of the distance matrix computed before, use the one provided in `distance.txt`."
   ]
  },
  {
   "cell_type": "code",
   "execution_count": null,
   "metadata": {},
   "outputs": [],
   "source": [
    "# load the new distance matrix\n",
    "dist = np.genfromtxt(\"distance.txt\", delimiter=\",\")"
   ]
  },
  {
   "cell_type": "markdown",
   "metadata": {},
   "source": [
    "### (iii) Applying DBSCAN\n",
    "\n",
    "According to a common heuristic, set the minPts parameter of DBSCAN to twice the number of features. Show the according k-distance plot (where *k = minPts - 1*).\n",
    "\n",
    "**[1 point]**"
   ]
  },
  {
   "cell_type": "code",
   "execution_count": null,
   "metadata": {},
   "outputs": [],
   "source": [
    "# Your code here"
   ]
  },
  {
   "cell_type": "markdown",
   "metadata": {},
   "source": [
    "Now you have to determine values for the *epsilon* parameter. Based on the previous plot, perform DBSCAN where you vary *epsilon* in the interval (0.0, 0.2] by steps of 0.01.\n",
    "\n",
    "Draw a diagram with the parameter *epsilon* (between 0.01 and 0.2) on the x-axis and the percentage of \n",
    "- clustered samples,\n",
    "- samples in the largest component,\n",
    "- and noise\n",
    "\n",
    "on the y-axis.\n",
    "\n",
    "In a second diagram, plot the number of clusters over *epsilon*.\n",
    "\n",
    "Based on these diagrams, which value for *epsilon* seems to be most suitable? Explain your answer. \n",
    "\n",
    "**[4 points]**"
   ]
  },
  {
   "cell_type": "code",
   "execution_count": null,
   "metadata": {},
   "outputs": [],
   "source": [
    "# Your code here"
   ]
  },
  {
   "cell_type": "markdown",
   "metadata": {},
   "source": [
    "**Answer**: \n",
    "\n",
    "*Your answer here*"
   ]
  },
  {
   "cell_type": "markdown",
   "metadata": {},
   "source": [
    "**Note**: No matter the conclusion made in the previous task, from now on, use the clustering model with *epsilon = 1/6* for predicting the price of W.'s car and evaluating the clustering technique.\n",
    "\n",
    "Apply DBSCAN clustering to your training set based on the provided distance matrix. Answer the following questions:\n",
    "- How many clusters are identified?\n",
    "- What is their average size?\n",
    "- What is the size of the largest cluster (absolute and relative)?\n",
    "- How large is the percentage of unclustered samples (noise)?\n",
    "\n",
    "**[4 points]**"
   ]
  },
  {
   "cell_type": "code",
   "execution_count": null,
   "metadata": {},
   "outputs": [],
   "source": [
    "# Your code here"
   ]
  },
  {
   "cell_type": "markdown",
   "metadata": {},
   "source": [
    "### (iv) Price prediction\n",
    "\n",
    "Create a dataframe based on the training set where you assign each to each car the label of its corresponding cluster. Then, for each of the obtained clusters, compute their average price as an estimate. \n",
    "\n",
    "**[2 point]**"
   ]
  },
  {
   "cell_type": "code",
   "execution_count": null,
   "metadata": {
    "tags": []
   },
   "outputs": [],
   "source": [
    "# Your code here"
   ]
  },
  {
   "cell_type": "markdown",
   "metadata": {},
   "source": [
    "Use your test set to evaluate your prediction. Therefore, estimate the price of each car in the test set based on an appropriate corresponding cluster. \n",
    "\n",
    "*Hint*: To do that, determine the labels of neighboring cars and assign a label to  each car of the test set as if it were a point still to cluster by DBSCAN. \n",
    "\n",
    "Based on the previously computed average price of each cluster and your function, give a price estimate for each car in the test set.\n",
    "\n",
    "Compare your estimates with the true prices. What are the values of the mean absolute error and the root-mean-square error? \n",
    "\n",
    "**[4 points]**\n",
    "\n",
    "*Note*: The distance matrix between test and training set is provided in `distance_test_to_train.txt`."
   ]
  },
  {
   "cell_type": "code",
   "execution_count": null,
   "metadata": {},
   "outputs": [],
   "source": [
    "test_dist = np.genfromtxt(\"distance_test_to_train.txt\", delimiter=\",\")"
   ]
  },
  {
   "cell_type": "code",
   "execution_count": null,
   "metadata": {},
   "outputs": [],
   "source": [
    "# Your code here"
   ]
  },
  {
   "cell_type": "markdown",
   "metadata": {},
   "source": [
    "**Answer**:\n",
    "\n",
    "*Your answer here*"
   ]
  },
  {
   "cell_type": "markdown",
   "metadata": {},
   "source": [
    "Finally, to predict the price for the target car, find a cluster that contains cars with similar features. \n",
    "\n",
    "**Note**: The distance matrix between the target car and the training set is provided in `distance_car_to_train.txt`.\n",
    "\n",
    "Show the cars within a distance of *epsilon* to W's car including all used features, their price and the label of their cluster.\n",
    "\n",
    "Which cluster would you assign the target car to and what is the estimated price? Round to the second decimal. \n",
    "\n",
    "**[1 point]**"
   ]
  },
  {
   "cell_type": "code",
   "execution_count": null,
   "metadata": {},
   "outputs": [],
   "source": [
    "car_dist = np.genfromtxt(\"distance_car_to_train.txt\", delimiter=\",\")"
   ]
  },
  {
   "cell_type": "code",
   "execution_count": null,
   "metadata": {},
   "outputs": [],
   "source": [
    "# Your code here"
   ]
  },
  {
   "cell_type": "markdown",
   "metadata": {},
   "source": [
    "**Answer**: \n",
    "\n",
    "*Your answer here*"
   ]
  },
  {
   "cell_type": "markdown",
   "metadata": {
    "id": "k3KKvYXfz3Dv"
   },
   "source": [
    "## (d) Prediction by regression and with neural networks **[17 points]**"
   ]
  },
  {
   "cell_type": "markdown",
   "metadata": {
    "id": "nnoVwFERFA6Y"
   },
   "source": [
    "In this task, we build regression models and neural networks to predict the car prices.\n",
    "\n",
    "Use the dataset *used_cars_preprocessed.csv* for this subtask as well as the next."
   ]
  },
  {
   "cell_type": "code",
   "execution_count": null,
   "metadata": {
    "id": "XqTvpq8zEprj"
   },
   "outputs": [],
   "source": [
    "import pandas as pd\n",
    "df = pd.read_csv(\"used_cars_preprocessed.csv\")"
   ]
  },
  {
   "cell_type": "markdown",
   "metadata": {
    "id": "djXVks5ZAdNm",
    "tags": []
   },
   "source": [
    "### (i) Feature engineering\n",
    "\n",
    "Run the code below that derives a feature *average_model_price* and adds it to the entries in the dataset and to the target car.\n",
    "\n",
    "Do you expect that using this feature as a descriptive feature will be beneficial for the quality of price prediction models? Discuss possible advantages and disadvantages. \n",
    "\n",
    "**[2 points]**\n",
    "\n",
    "*Hint:* You can also first play around with different feature selections in the model training tasks below below to get a feeling for the usefulness of features."
   ]
  },
  {
   "cell_type": "code",
   "execution_count": null,
   "metadata": {
    "id": "SStmeNJdBBLm"
   },
   "outputs": [],
   "source": [
    "average_model_prices = {\n",
    "    model: df[df[\"model\"] == model][\"price\"].mean()\n",
    "    for model in set(df[\"model\"].values)\n",
    "}\n",
    "\n",
    "df[\"average_model_price\"] = df.apply(lambda row: average_model_prices[row[\"model\"]], axis = 1)\n",
    "car[\"average_model_price\"] = car.apply(lambda row: average_model_prices[row[\"model\"]], axis = 1)"
   ]
  },
  {
   "cell_type": "markdown",
   "metadata": {
    "id": "jEmfq_GxCeMc"
   },
   "source": [
    "**Answer:**\n",
    "\n",
    "*Your answer here*"
   ]
  },
  {
   "cell_type": "markdown",
   "metadata": {
    "id": "F47eZRZ9m35y",
    "tags": []
   },
   "source": [
    "### (ii) Feature selection\n",
    "\n",
    "As descriptive features for the models trained in the following, use as categorical feature *accident* and as numerical features *model_year* and *milage*. Depending on your answer for task (i), make a choice whether to include or not to include *average_model_price*.\n",
    "\n",
    "Beside these features, choose one of the three numerical features *horsepower*, *cylinders* and *litres* as another descriptive feature. Motivate your choice with the help of appropriate visualization techniques. \n",
    "\n",
    "**[1 point]**"
   ]
  },
  {
   "cell_type": "code",
   "execution_count": null,
   "metadata": {},
   "outputs": [],
   "source": [
    "# Your code here"
   ]
  },
  {
   "cell_type": "markdown",
   "metadata": {
    "id": "iC4vs-Ui7GkT"
   },
   "source": [
    "**Answer**\n",
    "\n",
    "*Your answer here*"
   ]
  },
  {
   "cell_type": "markdown",
   "metadata": {
    "id": "vn8Lsrw_8EiA",
    "tags": []
   },
   "source": [
    "### (iii) Data transformation for regression and neural networks\n",
    "\n",
    "Use *accident*, *model_year* and *milage* as well as your selection from the previous task as descriptive features and *price* as the target feature. Create a test and training set like before, encoding the categorical feature. For the train-test split, use again `train_test_split` from *sklearn* with arguments `random_state=3` and `test_size=0.05`. \n",
    "\n",
    "Normalize the training and test sets as well as the target car. Use the `StandardScaler` from *sklearn* for normalization.\n",
    "\n",
    "*Hint:* Append the target car to the dataset during the encoding procedure.\n",
    "\n",
    "**[2 points]**\n"
   ]
  },
  {
   "cell_type": "code",
   "execution_count": null,
   "metadata": {
    "id": "CjLRGPHX204q"
   },
   "outputs": [],
   "source": [
    "from sklearn.model_selection import train_test_split\n",
    "from sklearn.preprocessing import StandardScaler\n",
    "# Your code here"
   ]
  },
  {
   "cell_type": "markdown",
   "metadata": {
    "id": "ukSdAASa8KzV",
    "tags": []
   },
   "source": [
    "In the following, we will train and evaluate various models for price prediction using the *sklearn* library. To leverage the shared interface for models in the sklearn library, it is convenient to create a function for the model training and evaluation.\n",
    "\n",
    "### (iv) Model training function\n",
    "\n",
    "Implement the body of the function *model_training* below. The function should adhere to the following specification:\n",
    "\n",
    "#### Input:\n",
    "- **model**: A model (e.g., Linear Regression or Neural Network) of the sklearn library.\n",
    "- **x_training_data**: The descriptive data to train the model.\n",
    "- **y_training_data**: The corresponding values of target feature of the training data.\n",
    "- **x_test_data**: The descriptive data to test the model.\n",
    "- **y_test_data**: The corresponding values of target feature of the test data.\n",
    "- **grid_params**: Model parameters for a grid search.\n",
    "\n",
    "#### Output:\n",
    "- **grid**: An object of the class sklearn.model_selection.GridSearchCV that was fitted against the training data. The training should follow a 5-fold cross-validation.\n",
    "- **mean_abs_err**: The mean absolute error of the trained model on the passed test data.\n",
    "- **rms_err**: The root-mean-square error of the trained model on the passed test data.\n",
    "- **best_params**: The optimal parameter configuration, i.e. , the parameters of the best scoring model that was selected by the grid search.\n",
    "\n",
    "**[2 points]**"
   ]
  },
  {
   "cell_type": "code",
   "execution_count": null,
   "metadata": {
    "colab": {
     "base_uri": "https://localhost:8080/"
    },
    "id": "9eK58xtk8NEw",
    "outputId": "5f173e48-5d55-495f-a22c-0c003946991a"
   },
   "outputs": [],
   "source": [
    "from sklearn.model_selection import GridSearchCV\n",
    "from sklearn.metrics import mean_absolute_error\n",
    "from sklearn.metrics import mean_squared_error\n",
    "\n",
    "def model_training(model, x_training_data, y_training_data, x_test_data, y_test_data, grid_params):\n",
    "    grid = None\n",
    "    best_params = None\n",
    "    mean_abs_err = None\n",
    "    # # # # # # # # # #\n",
    "    # Your code here  #\n",
    "    # # # # # # # # # #\n",
    "\n",
    "    # # # # # # # # # #\n",
    "    return grid, mean_abs_err, rms_err, best_params"
   ]
  },
  {
   "cell_type": "markdown",
   "metadata": {
    "id": "j7NF5-W62Cog",
    "tags": []
   },
   "source": [
    "### (v) Linear regression\n",
    "\n",
    "Apply your function *model_training* to train a linear regressor. Show the errors (MAE, RMSE) and predict the price of the target car. \n",
    "\n",
    "**[1 point]**\n"
   ]
  },
  {
   "cell_type": "code",
   "execution_count": null,
   "metadata": {
    "colab": {
     "base_uri": "https://localhost:8080/"
    },
    "id": "Is9bY8vB9D-Y",
    "outputId": "7c0960d8-2b64-4101-cca3-c12d34d25108"
   },
   "outputs": [],
   "source": [
    "from sklearn.linear_model import LinearRegression\n",
    "# Your code here"
   ]
  },
  {
   "cell_type": "markdown",
   "metadata": {
    "tags": []
   },
   "source": [
    "Learning linear relationships only provides limited performance. Therefore, we will analyze non-linear relationships.\n",
    "\n",
    "### (vi) Regression with non-linear kernels\n",
    "\n",
    "Plot the _milage_ feature (x-Axis) in the data against the _price_ feature (y-Axis). \n",
    "\n",
    "Based on the curve, what kernel functions could be used to transform the milage feature? Suggest at least two possible kernel functions. \n",
    "\n",
    "\n",
    "**[2 points]**"
   ]
  },
  {
   "cell_type": "code",
   "execution_count": null,
   "metadata": {},
   "outputs": [],
   "source": [
    "# Your code here"
   ]
  },
  {
   "cell_type": "markdown",
   "metadata": {},
   "source": [
    "**Answer:**\n",
    "\n",
    "*Your answer here*"
   ]
  },
  {
   "cell_type": "markdown",
   "metadata": {},
   "source": [
    "For each kernel function, create a copies of your normalized train sets, test sets and the normalized target car, and extend them with the transformed *milage* feature. Call the _model_training_ function with a linear regression model. Show the errors (MAE, RMSE) and predict the price of the target car. Which of the kernels performs best?\n",
    "\n",
    "**[3 points]**"
   ]
  },
  {
   "cell_type": "code",
   "execution_count": null,
   "metadata": {
    "scrolled": true,
    "tags": []
   },
   "outputs": [],
   "source": [
    "# Your code here"
   ]
  },
  {
   "cell_type": "markdown",
   "metadata": {},
   "source": [
    "**Answer:**\n",
    "\n",
    "*Your answer here*"
   ]
  },
  {
   "cell_type": "markdown",
   "metadata": {
    "id": "z-cWC9mU2SnY",
    "tags": []
   },
   "source": [
    "### (vii) Neural networks\n",
    "\n",
    "While you are working on your predictive models, N. walks by. With a critical look on your screen, N. says: \"Linear regression is so boring. Nowadays, deep learning is all the rage. Ever heard of ChatGPT and transformer models? Come on, at least you should train a neural network. Watch me, I'll show you,\" N. says, grabs your keyboard and starts typing."
   ]
  },
  {
   "cell_type": "code",
   "execution_count": null,
   "metadata": {
    "colab": {
     "base_uri": "https://localhost:8080/"
    },
    "id": "pPPp6xehvKtW",
    "outputId": "3e9073f6-d4fd-41a6-9812-43ccdd19a8da"
   },
   "outputs": [],
   "source": [
    "### Provided Code (do not change!)\n",
    "from sklearn.neural_network import MLPRegressor\n",
    "\n",
    "param_grid_nn = {'activation': ['identity'],\n",
    "              \"early_stopping\": [True],\n",
    "              \"validation_fraction\": [0.1],\n",
    "              \"learning_rate\": [\"adaptive\"],\n",
    "              'solver' : ['lbfgs'],\n",
    "              'hidden_layer_sizes': [(2,1), (5,1), (20,1), (100,5)]\n",
    "             }\n",
    "grid_nn, mean_abs_err_nn, rms_err_nn, best_params_nn = model_training(\n",
    "    MLPRegressor(max_iter = 10000), normalized_x_train, y_train, normalized_x_test, y_test, param_grid_nn\n",
    ")\n",
    "print(\"Mean absolute error: {}\".format(mean_abs_err_nn))\n",
    "print(\"Root-mean-square error: {}\".format(rms_err_nn))\n",
    "print(\"Predicted Price of the target car: {}\".format(grid_nn.predict(normalized_car)))\n",
    "print(\"Params of best model: {}\".format(best_params_nn))"
   ]
  },
  {
   "cell_type": "markdown",
   "metadata": {
    "id": "O2e_R77d-0c_"
   },
   "source": [
    "Execute the code above and interpret the result in comparison to your previous results. In particular, discuss the choice of the activation function and the size of the hidden layers.\n",
    "\n",
    "*Hint:* Set the verbose parameter of the grid search (e.g. , to 3) to get more detailed information on the model training.\n",
    "\n",
    "**[4 points]**"
   ]
  },
  {
   "cell_type": "markdown",
   "metadata": {},
   "source": [
    "**Answer:**\n",
    "\n",
    "*Your answer here*"
   ]
  },
  {
   "cell_type": "markdown",
   "metadata": {
    "tags": []
   },
   "source": [
    "## (e) Discussion **[6 points]**"
   ]
  },
  {
   "cell_type": "markdown",
   "metadata": {},
   "source": [
    "Summarize your findings and discuss limitations of the different prediction approaches. In your discussion, not only refer to the predicted price of the running example and the confidence of your prediction, but also to the methods in general.\n",
    "\n",
    "- Based on the general methodologies, which approach would you prefer and why?\n",
    "- Which approach performed best on the given example?\n",
    "- Are your results consistent with this view?\n",
    "- How would you explain the margin of errors in each approach?\n",
    "- What can you deduce from the differences between MAE and RMSE?\n",
    "- Are there limitations regarding the comparability of the approaches?\n",
    "\n",
    "  \n",
    "**[6 points]**"
   ]
  },
  {
   "cell_type": "markdown",
   "metadata": {},
   "source": [
    "**Answer:**\n",
    "\n",
    "*Your answer here*"
   ]
  },
  {
   "cell_type": "markdown",
   "metadata": {},
   "source": [
    "Having completed your extensive work on predicting prices, you give W. a call to report your findings. W. is excited to hear about your results, and promises to consider your suggestions. \n"
   ]
  },
  {
   "cell_type": "markdown",
   "metadata": {
    "id": "NrkqMEC4-l2h"
   },
   "source": [
    "# Q4: Predicting time-to-sale **[16 points]**"
   ]
  },
  {
   "cell_type": "markdown",
   "metadata": {},
   "source": [
    "**ReDrive** has just rented a small area parking area in front of the facility with unused space for ten cars. Your new project is an exhibition of selected cars on that space. For a one-time commission, sellers can drive up their car there and your company will market the car also locally.\n",
    "\n",
    "To maximize turnover by commissions, your business strategy is to exhibit cars there that are likely to be resold quickly. You decide that the cars on display should have an expected selling time of at most 30 days."
   ]
  },
  {
   "cell_type": "markdown",
   "metadata": {
    "id": "SFI1uPQ7hXOV"
   },
   "source": [
    "## (a) Data preparation **[4 points]**"
   ]
  },
  {
   "cell_type": "markdown",
   "metadata": {},
   "source": [
    "In this task, we use the dataset **used_cars_reselling_states.csv**. This is an extension of the working dataframe used so far, also describing when a car has been registered for reselling (*registration_date*), when it was successfully resold (*reselling_date*), and the number of days from registration to reselling (*reselling_time*).\n",
    "\n",
    "Run the code below. The code loads the dataframe, filters out instances without a well-defined outcome for our classification problem, and applies oversampling to the dataframe to circumvent a class imbalance problem."
   ]
  },
  {
   "cell_type": "code",
   "execution_count": null,
   "metadata": {
    "id": "5945_DpvI_su"
   },
   "outputs": [],
   "source": [
    "### Provided Code (do not change!)\n",
    "import pandas as pd\n",
    "df = pd.read_csv(\"used_cars_reselling_states.csv\")\n",
    "df.dropna(subset=[\"reselling_date\"], inplace=True)\n",
    "\n",
    "# Oversample to circumvent class imbalance \n",
    "df_fast = df[df['reselling_time'] <= 30]\n",
    "df_notfast = df[df['reselling_time'] > 30]\n",
    "sample_size = len(df_notfast) - len(df_fast)\n",
    "random_sample = df_fast.sample(n=sample_size, replace=True)\n",
    "df = pd.concat([df, random_sample], ignore_index=True)"
   ]
  },
  {
   "cell_type": "markdown",
   "metadata": {
    "id": "-WTkmuifjA03"
   },
   "source": [
    "### (i) Target feature creation\n",
    "\n",
    "Use the column *reselling_time* to define a binary categorical (boolean) feature according to the description above and append this feature to the dataframe. \n",
    "\n",
    "**[1 point]**"
   ]
  },
  {
   "cell_type": "code",
   "execution_count": null,
   "metadata": {
    "id": "NonESzlohxwh"
   },
   "outputs": [],
   "source": [
    "# Your code here"
   ]
  },
  {
   "cell_type": "markdown",
   "metadata": {
    "id": "ci0lgoEM9yEd",
    "tags": []
   },
   "source": [
    "### (ii) Sensitivity and Specificity\n",
    "\n",
    "You have learned about various quality metrics for classifiers.\n",
    "\n",
    "Briefly illustrate the terms *sensitivity* and *specificity* in the context of the classification problem of fast reselling cars. Suggest which of these metrics is more important for the classifier and provide a justified reason for your suggestion. \n",
    "\n",
    "**[2 points]**"
   ]
  },
  {
   "cell_type": "markdown",
   "metadata": {
    "id": "KL6Oqyio_Uz7"
   },
   "source": [
    "**Answer:**\n",
    "\n",
    "*Your answer here*\n"
   ]
  },
  {
   "cell_type": "markdown",
   "metadata": {
    "id": "azxlpRlLh7av"
   },
   "source": [
    "### (iii) Data transformation for classification problem\n",
    "\n",
    "Use *milage*, *model_year* and *price* as descriptive features and your binary feature as the target feature. Create a test and training set like before. For the train-test split, use again `train_test_split` from *sklearn* with arguments `random_state=3` and `test_size=0.05`. \n",
    "\n",
    "Normalize the training and test sets. Use the `StandardScaler` from *sklearn* for normalization.\n",
    "\n",
    "**[1 point]**"
   ]
  },
  {
   "cell_type": "code",
   "execution_count": null,
   "metadata": {
    "colab": {
     "base_uri": "https://localhost:8080/",
     "height": 1000
    },
    "id": "OcSxnO0WiAYw",
    "outputId": "5fcd234a-5c2e-44c8-b260-084d1db93505"
   },
   "outputs": [],
   "source": [
    "from sklearn.preprocessing import StandardScaler\n",
    "from sklearn.model_selection import train_test_split\n",
    "## Your code here"
   ]
  },
  {
   "cell_type": "markdown",
   "metadata": {},
   "source": [
    "## (b) Classifiers **[10 points]**"
   ]
  },
  {
   "cell_type": "markdown",
   "metadata": {
    "id": "yeb1KBp-iTao"
   },
   "source": [
    "### (i) Model training\n",
    "\n",
    "Train two classifiers: \n",
    "- A Logistic Regressor,\n",
    "- A Support Vector Machine.\n",
    "\n",
    " **[1 point]**"
   ]
  },
  {
   "cell_type": "code",
   "execution_count": null,
   "metadata": {
    "id": "ZVXoqbF2iVpX",
    "scrolled": true
   },
   "outputs": [],
   "source": [
    "from sklearn.linear_model import LogisticRegression\n",
    "from sklearn.svm import SVC\n",
    "# Your code here"
   ]
  },
  {
   "cell_type": "markdown",
   "metadata": {},
   "source": [
    "### (ii) Evaluation, Part 1\n",
    "\n",
    "For both classifiers, show the confusion matrix. \n",
    "\n",
    "**[2 points]**"
   ]
  },
  {
   "cell_type": "code",
   "execution_count": null,
   "metadata": {},
   "outputs": [],
   "source": [
    "# Your code here"
   ]
  },
  {
   "cell_type": "markdown",
   "metadata": {},
   "source": [
    "Compute, if possible, precision, fitness and F1-score of each classifier. Also, compute sensitivity and specificity of each classifier.\n",
    "\n",
    "**[2 points]**"
   ]
  },
  {
   "cell_type": "code",
   "execution_count": null,
   "metadata": {
    "scrolled": true
   },
   "outputs": [],
   "source": [
    "# Your code here"
   ]
  },
  {
   "cell_type": "markdown",
   "metadata": {},
   "source": [
    "Would you choose any of the trained classifiers for application on the described problem? If yes, which one? Justify your answer.\n",
    "\n",
    "**[1 point]**"
   ]
  },
  {
   "cell_type": "markdown",
   "metadata": {},
   "source": [
    "**Answer:**\n",
    "\n",
    "*Your answer here*"
   ]
  },
  {
   "cell_type": "markdown",
   "metadata": {
    "id": "w6HHT0fnivxX"
   },
   "source": [
    "### (iii) Evaluation, Part 2\n",
    "\n",
    "Besides the *predict* method to decide for the class label of an instance, a `LogisticRegression` model from *sklearn* offers the method `predict_proba`. This method takes a list of instances to be classified and returns a list of tuples. Each tuple has two entries: The first entry is the probability for the respective instance to be classified as negative and the second entry is the probability for the instance to be classified as positive. Thus, the entries of each tuple sum up to 1.\n",
    "\n",
    "As you learned in the lecture, we can vary the outcome of a logistic regression classifer by setting a threshold. Instances are labeled as positive if their probability for a positive label is greater than or equal to the threshold.\n",
    "\n",
    "Define the body of the function *threshold_to_rates* below. This function receives a threshold between 0 and 1, and then classifies the test data based on the threshold and the outcome of the instances under the `predict_proba` method of your trained classifier. The function must return a tuple where the first entry is the true positive rate and the second entry is the false positive rate with respect to the given configuration.\n",
    "\n",
    "**Input**:\n",
    "- **h**: A real number within the interval $[0,1]$.\n",
    "\n",
    "**Output**:\n",
    "- **TPR**: The true positive rate of your test data set, based on the given threshold.\n",
    "- **FPR**: The false positive rate of your test data set, based on the given threshold. \n",
    "\n",
    "**[3 points]**"
   ]
  },
  {
   "cell_type": "code",
   "execution_count": null,
   "metadata": {
    "colab": {
     "base_uri": "https://localhost:8080/",
     "height": 721
    },
    "id": "ZkylqWr0ufcH",
    "outputId": "0001445b-ca1b-4c1a-df67-4748503f8eb1"
   },
   "outputs": [],
   "source": [
    "def threshold_to_rates(h):\n",
    "    tpr = 0\n",
    "    fpr = 0\n",
    "    # # # # # # # # # #\n",
    "    # Your code here  #\n",
    "    # # # # # # # # # #\n",
    "    \n",
    "    # # # # # # # # # #\n",
    "    return (tpr, fpr)"
   ]
  },
  {
   "cell_type": "markdown",
   "metadata": {},
   "source": [
    "Having specified the *threshold_to_rates* function, execute the code box below to plot the ROC curve of your classifier."
   ]
  },
  {
   "cell_type": "code",
   "execution_count": null,
   "metadata": {},
   "outputs": [],
   "source": [
    "# Given code (Do not change)\n",
    "import matplotlib.pyplot as plt\n",
    "import numpy as np\n",
    "from sklearn import metrics\n",
    "steps =  np.arange(1.0, -0.1, -0.1)\n",
    "steps = [round(h*10)/10 for h in steps]\n",
    "data = {\n",
    "    h : threshold_to_rates(h)\n",
    "    for h in steps\n",
    "}\n",
    "\n",
    "fpr = [data[h][1] for h in steps]\n",
    "tpr = [data[h][0] for h in steps]\n",
    "\n",
    "roc_auc = metrics.auc(fpr, tpr)\n",
    "roc_display = metrics.RocCurveDisplay(fpr=fpr, tpr=tpr, roc_auc=roc_auc,\n",
    "                                  estimator_name='Your Logistic Regressor')\n",
    "roc_display.plot()\n",
    "\n",
    "plt.plot([0, 1], [0, 1], color='gray', linestyle='--', label='Random Baseline')\n",
    "plt.scatter(fpr, tpr, color='red', marker='o', label='threshold h')\n",
    "for i, label in enumerate(steps):\n",
    "    plt.text(fpr[i], tpr[i], label, fontsize=12, ha='center', va='bottom')\n",
    "\n",
    "plt.legend()\n",
    "plt.show()"
   ]
  },
  {
   "cell_type": "markdown",
   "metadata": {},
   "source": [
    "Interpret the plot. Is there a threshold you would choose for the application of the classifier on the described problem? Justify your answer.\n",
    "\n",
    "**[1 point]**"
   ]
  },
  {
   "cell_type": "markdown",
   "metadata": {},
   "source": [
    "**Answer:**\n",
    "\n",
    "*Your answer here*"
   ]
  },
  {
   "cell_type": "markdown",
   "metadata": {
    "id": "tOCdjKKfFzNv",
    "tags": []
   },
   "source": [
    "## (c) Discussion **[2 points]**\n",
    "\n",
    "Summarize your findings. Discuss limitations and improvement potentials. \n",
    "\n",
    "**[2 points]**"
   ]
  },
  {
   "cell_type": "markdown",
   "metadata": {
    "id": "FShifzpEGLdf"
   },
   "source": [
    "**Answer:**\n",
    "\n",
    "*Your answer here*"
   ]
  }
 ],
 "metadata": {
  "colab": {
   "provenance": []
  },
  "kernelspec": {
   "display_name": "Python 3 (ipykernel)",
   "language": "python",
   "name": "python3"
  },
  "language_info": {
   "codemirror_mode": {
    "name": "ipython",
    "version": 3
   },
   "file_extension": ".py",
   "mimetype": "text/x-python",
   "name": "python",
   "nbconvert_exporter": "python",
   "pygments_lexer": "ipython3",
   "version": "3.9.7"
  }
 },
 "nbformat": 4,
 "nbformat_minor": 4
}
